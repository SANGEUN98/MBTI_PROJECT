{
 "cells": [
  {
   "cell_type": "code",
   "execution_count": 1,
   "id": "b65ddfb7",
   "metadata": {
    "ExecuteTime": {
     "end_time": "2023-08-17T02:49:16.003126Z",
     "start_time": "2023-08-17T02:49:14.762362Z"
    }
   },
   "outputs": [],
   "source": [
    "from selenium import webdriver\n",
    "from selenium.webdriver.common.keys import Keys\n",
    "from selenium.webdriver.common.by import By\n",
    "from selenium.webdriver.chrome.options import Options\n",
    "from selenium.webdriver.chrome.service import Service\n",
    "from webdriver_manager.chrome import ChromeDriverManager\n",
    "import time\n",
    "from bs4 import BeautifulSoup\n",
    "from selenium.webdriver import ActionChains\n",
    "import cx_Oracle\n",
    "import re\n",
    "import pandas as pd"
   ]
  },
  {
   "cell_type": "code",
   "execution_count": 30,
   "id": "2fe4503c",
   "metadata": {
    "ExecuteTime": {
     "end_time": "2023-08-17T06:34:24.470441Z",
     "start_time": "2023-08-17T06:34:24.432375Z"
    }
   },
   "outputs": [],
   "source": [
    "con = cx_Oracle.connect('mbti/1111@192.168.30.28:1521/xe')\n",
    "cur1 = con.cursor()\n",
    "my_sql=\"\"\"\n",
    "select * from BOX_RANK_DATA\n",
    "\"\"\"\n",
    "rs = cur1.execute(my_sql)"
   ]
  },
  {
   "cell_type": "code",
   "execution_count": 23,
   "id": "11e4742a",
   "metadata": {
    "ExecuteTime": {
     "end_time": "2023-08-17T06:23:45.204565Z",
     "start_time": "2023-08-17T06:23:45.165723Z"
    }
   },
   "outputs": [],
   "source": [
    "con = cx_Oracle.connect('mbti/1111@192.168.30.28:1521/xe')\n",
    "cur = con.cursor()\n",
    "my_sql=\"\"\"\n",
    "select * from BOX_RANK_DATA\n",
    "where RANK_DATE = '20230816'\n",
    "\"\"\""
   ]
  },
  {
   "cell_type": "code",
   "execution_count": 24,
   "id": "5ea716c3",
   "metadata": {
    "ExecuteTime": {
     "end_time": "2023-08-17T06:23:48.733733Z",
     "start_time": "2023-08-17T06:23:48.725754Z"
    }
   },
   "outputs": [
    {
     "data": {
      "text/plain": [
       "(10, 3)"
      ]
     },
     "execution_count": 24,
     "metadata": {},
     "output_type": "execute_result"
    }
   ],
   "source": [
    "cur.execute(my_sql)\n",
    "cur\n",
    "df = pd.DataFrame(cur)\n",
    "df.shape"
   ]
  },
  {
   "cell_type": "code",
   "execution_count": 34,
   "id": "6bad66cb",
   "metadata": {
    "ExecuteTime": {
     "end_time": "2023-08-17T06:35:41.744652Z",
     "start_time": "2023-08-17T06:35:41.732685Z"
    }
   },
   "outputs": [],
   "source": [
    "data =[]\n",
    "for record in rs:\n",
    "    row=[]\n",
    "    for source in range(0, len(record)):\n",
    "        row.append(record[source])\n",
    "    data.append(row)"
   ]
  },
  {
   "cell_type": "code",
   "execution_count": 36,
   "id": "dab8c737",
   "metadata": {
    "ExecuteTime": {
     "end_time": "2023-08-17T06:36:49.520211Z",
     "start_time": "2023-08-17T06:36:49.501294Z"
    }
   },
   "outputs": [],
   "source": [
    "columns = ['날짜','제목','랭킹']"
   ]
  },
  {
   "cell_type": "code",
   "execution_count": 39,
   "id": "3a2ac9f7",
   "metadata": {
    "ExecuteTime": {
     "end_time": "2023-08-17T06:37:50.803690Z",
     "start_time": "2023-08-17T06:37:50.789765Z"
    }
   },
   "outputs": [],
   "source": [
    "rank = pd.DataFrame(columns=columns, data = data)"
   ]
  },
  {
   "cell_type": "code",
   "execution_count": 40,
   "id": "b9d9dc53",
   "metadata": {
    "ExecuteTime": {
     "end_time": "2023-08-17T06:37:53.832120Z",
     "start_time": "2023-08-17T06:37:53.812175Z"
    }
   },
   "outputs": [
    {
     "data": {
      "text/html": [
       "<div>\n",
       "<style scoped>\n",
       "    .dataframe tbody tr th:only-of-type {\n",
       "        vertical-align: middle;\n",
       "    }\n",
       "\n",
       "    .dataframe tbody tr th {\n",
       "        vertical-align: top;\n",
       "    }\n",
       "\n",
       "    .dataframe thead th {\n",
       "        text-align: right;\n",
       "    }\n",
       "</style>\n",
       "<table border=\"1\" class=\"dataframe\">\n",
       "  <thead>\n",
       "    <tr style=\"text-align: right;\">\n",
       "      <th></th>\n",
       "      <th>날짜</th>\n",
       "      <th>제목</th>\n",
       "      <th>랭킹</th>\n",
       "    </tr>\n",
       "  </thead>\n",
       "  <tbody>\n",
       "    <tr>\n",
       "      <th>0</th>\n",
       "      <td>20230815</td>\n",
       "      <td>콘크리트 유토피아</td>\n",
       "      <td>2</td>\n",
       "    </tr>\n",
       "    <tr>\n",
       "      <th>1</th>\n",
       "      <td>20230815</td>\n",
       "      <td>달짝지근해: 7510</td>\n",
       "      <td>3</td>\n",
       "    </tr>\n",
       "    <tr>\n",
       "      <th>2</th>\n",
       "      <td>20230815</td>\n",
       "      <td>밀수</td>\n",
       "      <td>4</td>\n",
       "    </tr>\n",
       "    <tr>\n",
       "      <th>3</th>\n",
       "      <td>20230815</td>\n",
       "      <td>엘리멘탈</td>\n",
       "      <td>5</td>\n",
       "    </tr>\n",
       "    <tr>\n",
       "      <th>4</th>\n",
       "      <td>20230815</td>\n",
       "      <td>메가로돈 2</td>\n",
       "      <td>6</td>\n",
       "    </tr>\n",
       "    <tr>\n",
       "      <th>...</th>\n",
       "      <td>...</td>\n",
       "      <td>...</td>\n",
       "      <td>...</td>\n",
       "    </tr>\n",
       "    <tr>\n",
       "      <th>65</th>\n",
       "      <td>20230816</td>\n",
       "      <td>메가로돈 2</td>\n",
       "      <td>7</td>\n",
       "    </tr>\n",
       "    <tr>\n",
       "      <th>66</th>\n",
       "      <td>20230816</td>\n",
       "      <td>비공식작전</td>\n",
       "      <td>8</td>\n",
       "    </tr>\n",
       "    <tr>\n",
       "      <th>67</th>\n",
       "      <td>20230816</td>\n",
       "      <td>미션 임파서블: 데드 레코닝 PART ONE</td>\n",
       "      <td>9</td>\n",
       "    </tr>\n",
       "    <tr>\n",
       "      <th>68</th>\n",
       "      <td>20230816</td>\n",
       "      <td>런닝맨: 리벤져스</td>\n",
       "      <td>10</td>\n",
       "    </tr>\n",
       "    <tr>\n",
       "      <th>69</th>\n",
       "      <td>20230815</td>\n",
       "      <td>오펜하이머</td>\n",
       "      <td>1</td>\n",
       "    </tr>\n",
       "  </tbody>\n",
       "</table>\n",
       "<p>70 rows × 3 columns</p>\n",
       "</div>"
      ],
      "text/plain": [
       "          날짜                        제목  랭킹\n",
       "0   20230815                 콘크리트 유토피아   2\n",
       "1   20230815               달짝지근해: 7510   3\n",
       "2   20230815                        밀수   4\n",
       "3   20230815                      엘리멘탈   5\n",
       "4   20230815                    메가로돈 2   6\n",
       "..       ...                       ...  ..\n",
       "65  20230816                    메가로돈 2   7\n",
       "66  20230816                     비공식작전   8\n",
       "67  20230816  미션 임파서블: 데드 레코닝 PART ONE   9\n",
       "68  20230816                 런닝맨: 리벤져스  10\n",
       "69  20230815                     오펜하이머   1\n",
       "\n",
       "[70 rows x 3 columns]"
      ]
     },
     "execution_count": 40,
     "metadata": {},
     "output_type": "execute_result"
    }
   ],
   "source": [
    "rank"
   ]
  },
  {
   "cell_type": "code",
   "execution_count": 53,
   "id": "713b04a1",
   "metadata": {
    "ExecuteTime": {
     "end_time": "2023-08-17T06:48:25.135129Z",
     "start_time": "2023-08-17T06:48:25.117119Z"
    }
   },
   "outputs": [],
   "source": [
    "lists = []"
   ]
  },
  {
   "cell_type": "code",
   "execution_count": 54,
   "id": "bbc5b114",
   "metadata": {
    "ExecuteTime": {
     "end_time": "2023-08-17T06:48:25.774150Z",
     "start_time": "2023-08-17T06:48:25.765164Z"
    }
   },
   "outputs": [],
   "source": [
    "lists.append(rank[(rank['제목'] == '콘크리트 유토피아')].to_dict('records'))"
   ]
  },
  {
   "cell_type": "code",
   "execution_count": 58,
   "id": "2fa3e330",
   "metadata": {
    "ExecuteTime": {
     "end_time": "2023-08-17T06:49:09.862947Z",
     "start_time": "2023-08-17T06:49:09.851976Z"
    }
   },
   "outputs": [
    {
     "data": {
      "text/plain": [
       "[[{'날짜': '20230815', '제목': '콘크리트 유토피아', '랭킹': 2},\n",
       "  {'날짜': '20230814', '제목': '콘크리트 유토피아', '랭킹': 1},\n",
       "  {'날짜': '20230813', '제목': '콘크리트 유토피아', '랭킹': 1},\n",
       "  {'날짜': '20230812', '제목': '콘크리트 유토피아', '랭킹': 1},\n",
       "  {'날짜': '20230811', '제목': '콘크리트 유토피아', '랭킹': 1},\n",
       "  {'날짜': '20230810', '제목': '콘크리트 유토피아', '랭킹': 1},\n",
       "  {'날짜': '20230816', '제목': '콘크리트 유토피아', '랭킹': 2}]]"
      ]
     },
     "execution_count": 58,
     "metadata": {},
     "output_type": "execute_result"
    }
   ],
   "source": [
    "lists"
   ]
  }
 ],
 "metadata": {
  "kernelspec": {
   "display_name": "Python 3 (ipykernel)",
   "language": "python",
   "name": "python3"
  },
  "language_info": {
   "codemirror_mode": {
    "name": "ipython",
    "version": 3
   },
   "file_extension": ".py",
   "mimetype": "text/x-python",
   "name": "python",
   "nbconvert_exporter": "python",
   "pygments_lexer": "ipython3",
   "version": "3.10.11"
  }
 },
 "nbformat": 4,
 "nbformat_minor": 5
}
