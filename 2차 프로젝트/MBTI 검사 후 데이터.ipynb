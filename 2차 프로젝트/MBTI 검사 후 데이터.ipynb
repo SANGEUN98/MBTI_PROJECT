{
 "cells": [
  {
   "cell_type": "code",
   "execution_count": 1,
   "id": "1795a086",
   "metadata": {
    "ExecuteTime": {
     "end_time": "2023-07-25T07:30:37.373163Z",
     "start_time": "2023-07-25T07:30:35.902524Z"
    }
   },
   "outputs": [],
   "source": [
    "import pandas as pd \n",
    "from selenium import webdriver\n",
    "from selenium.webdriver import ActionChains\n",
    "from selenium.webdriver.chrome.service import Service\n",
    "from selenium.webdriver.common.by import By\n",
    "from webdriver_manager.chrome import ChromeDriverManager\n",
    "from bs4 import BeautifulSoup\n",
    "import time\n",
    "from selenium.webdriver.chrome.options import Options\n",
    "import cx_Oracle\n",
    "import re"
   ]
  },
  {
   "cell_type": "code",
   "execution_count": 2,
   "id": "99027242",
   "metadata": {
    "ExecuteTime": {
     "end_time": "2023-07-25T07:31:24.542226Z",
     "start_time": "2023-07-25T07:30:38.381921Z"
    },
    "scrolled": false
   },
   "outputs": [
    {
     "name": "stderr",
     "output_type": "stream",
     "text": [
      "[WDM] - Downloading: 100%|█████████████████████████████████████████████████████████| 6.30M/6.30M [00:00<00:00, 102MB/s]\n"
     ]
    },
    {
     "data": {
      "text/plain": [
       "<html lang=\"ko\" style=\"--body-frozen-pad-rt: 0px;\"><head>\n",
       "<meta charset=\"utf-8\"/>\n",
       "<meta content=\"IE=edge\" http-equiv=\"X-UA-Compatible\"/>\n",
       "<meta content=\"width=device-width, initial-scale=1\" name=\"viewport\"/>\n",
       "<meta content=\"\" name=\"description\"/>\n",
       "<meta content=\"\" name=\"author\"/>\n",
       "<meta content=\"IRocLTIXkDOJuw6g5wmkzrUeG7enurrF4KkW9Th3\" name=\"csrf-token\"/>\n",
       "<meta content=\"v2.6.70\" name=\"app-version\"/>\n",
       "<meta content=\"ko/type-description\" name=\"app-route\"/>\n",
       "<meta content=\"0\" name=\"app-bs-uid\"/>\n",
       "<meta content=\"\" name=\"api-token\"/>\n",
       "<meta content=\"ko\" name=\"app-locale\"/>\n",
       "<meta content=\"16Personalities\" property=\"og:site_name\"/>\n",
       "<meta content=\"https://www.16personalities.com/ko/%ec%84%b1%ea%b2%a9%ec%9c%a0%ed%98%95-esfj\" property=\"og:url\"/>\n",
       "<meta content=\"성격 유형: 집정관 (ESFJ) | 16Personalities\" property=\"og:title\"/>\n",
       "<meta content=\"https://www.16personalities.com/static/images/social/esfj.png\" property=\"og:image\"/>\n",
       "<title>성격 유형: 집정관 (ESFJ) | 16Personalities</title>\n",
       "<link href=\"https://www.16personalities.com/static/images/favicons/favicon-96x96.png\" rel=\"icon\" sizes=\"96x96\" type=\"image/png\"/>\n",
       "<link href=\"https://www.16personalities.com/static/images/favicons/favicon-32x32.png\" rel=\"icon\" sizes=\"32x32\" type=\"image/png\"/>\n",
       "<link href=\"https://www.16personalities.com/static/images/favicons/favicon-16x16.png\" rel=\"icon\" sizes=\"16x16\" type=\"image/png\"/>\n",
       "<link href=\"https://www.16personalities.com/build/assets/c3r5bgnvcmu--dc3f3c5f.css\" rel=\"stylesheet\"/><link as=\"style\" href=\"https://www.16personalities.com/build/assets/c3r5bgnvcmu--dc3f3c5f.css\" rel=\"preload\"/><link href=\"https://www.16personalities.com/build/assets/c3r5bgxhcmdl--a6a2ad28.css\" media=\"screen and (min-width: 768px)\" rel=\"stylesheet\"/>\n",
       "<link href=\"https://www.16personalities.com/build/assets/c3r5bgzvbnrz--779365ef.css\" rel=\"stylesheet\"/><link as=\"style\" href=\"https://www.16personalities.com/build/assets/c3r5bgzvbnrz--779365ef.css\" rel=\"preload\"/>\n",
       "<link href=\"https://www.16personalities.com/build/assets/zm9udcvzb21l--5f603b41.css\" rel=\"stylesheet\"/><link as=\"style\" href=\"https://www.16personalities.com/build/assets/zm9udcvzb21l--5f603b41.css\" rel=\"preload\"/>\n",
       "<link href=\"https://www.16personalities.com/build/assets/bgvnywxlcw--fd7579f2.css\" rel=\"stylesheet\"/><link href=\"https://www.16personalities.com/build/assets/bgvnywfyz2u--d756d64f.css\" media=\"screen and (min-width: 768px)\" rel=\"stylesheet\"/>\n",
       "<link href=\"https://www.16personalities.com/build/assets/dhlwzslvbg--6dfd2a44.css\" rel=\"stylesheet\"/><link as=\"style\" href=\"https://www.16personalities.com/build/assets/dhlwzslvbg--6dfd2a44.css\" rel=\"preload\"/><link href=\"https://www.16personalities.com/build/assets/dhlwzsfyz2u--b5daa8df.css\" media=\"screen and (min-width: 768px)\" rel=\"stylesheet\"/>\n",
       "<link href=\"https://www.16personalities.com/build/assets/aw50zxlszxm--5687e9a6.css\" rel=\"stylesheet\"/><link as=\"style\" href=\"https://www.16personalities.com/build/assets/aw50zxlszxm--5687e9a6.css\" rel=\"preload\"/><link href=\"https://www.16personalities.com/build/assets/aw50zxxhcmdl--4bf2a926.css\" media=\"screen and (min-width: 768px)\" rel=\"stylesheet\"/>\n",
       "<link href=\"https://fonts.googleapis.com\" rel=\"preconnect\"/>\n",
       "<link crossorigin=\"\" href=\"https://fonts.gstatic.com\" rel=\"preconnect\"/>\n",
       "<!-- Noto Sans KR + Noto Sans -->\n",
       "<link href=\"https://fonts.googleapis.com/css2?family=Noto+Sans+KR:wght@400;700&amp;family=Noto+Sans:wght@400;600&amp;display=swap\" rel=\"stylesheet\"/>\n",
       "<link href=\"https://www.16personalities.com/ko/%EC%84%B1%EA%B2%A9%EC%9C%A0%ED%98%95-esfj\" rel=\"canonical\"/>\n",
       "<link href=\"https://www.16personalities.com/esfj-personality\" hreflang=\"en\" rel=\"alternate\"/>\n",
       "<link href=\"https://www.16personalities.com/ar/%d8%b4%d8%ae%d8%b5%d9%8a%d8%a9-esfj\" hreflang=\"ar\" rel=\"alternate\"/>\n",
       "<link href=\"https://www.16personalities.com/bg/%d0%bb%d0%b8%d1%87%d0%bd%d0%be%d1%81%d1%82%d0%b5%d0%bd-%d1%82%d0%b8%d0%bf-esfj\" hreflang=\"bg\" rel=\"alternate\"/>\n",
       "<link href=\"https://www.16personalities.com/ch/esfj-%e4%ba%ba%e6%a0%bc\" hreflang=\"zh\" rel=\"alternate\"/>\n",
       "<link href=\"https://www.16personalities.com/cs/esfj-osobnost\" hreflang=\"cs\" rel=\"alternate\"/>\n",
       "<link href=\"https://www.16personalities.com/da/esfj-personlighed\" hreflang=\"da\" rel=\"alternate\"/>\n",
       "<link href=\"https://www.16personalities.com/de/esfj-personlichkeit\" hreflang=\"de\" rel=\"alternate\"/>\n",
       "<link href=\"https://www.16personalities.com/ee/esfj-isiksus\" hreflang=\"et\" rel=\"alternate\"/>\n",
       "<link href=\"https://www.16personalities.com/es/personalidad-esfj\" hreflang=\"es\" rel=\"alternate\"/>\n",
       "<link href=\"https://www.16personalities.com/el/%cf%84%cf%8d%cf%80%ce%bf%cf%82-%cf%80%cf%81%ce%bf%cf%83%cf%89%cf%80%ce%b9%ce%ba%cf%8c%cf%84%ce%b7%cf%84%ce%b1%cf%82-esfj\" hreflang=\"el\" rel=\"alternate\"/>\n",
       "<link href=\"https://www.16personalities.com/fa/esfj-%d8%b4%d8%ae%d8%b5%db%8c%d8%aa\" hreflang=\"fa\" rel=\"alternate\"/>\n",
       "<link href=\"https://www.16personalities.com/fi/esfj-persoonallisuus\" hreflang=\"fi\" rel=\"alternate\"/>\n",
       "<link href=\"https://www.16personalities.com/fr/la-personnalite-esfj\" hreflang=\"fr\" rel=\"alternate\"/>\n",
       "<link href=\"https://www.16personalities.com/he/esfj-%d7%90%d7%99%d7%a9%d7%99%d7%95%d7%aa\" hreflang=\"he\" rel=\"alternate\"/>\n",
       "<link href=\"https://www.16personalities.com/hi/esfj-%e0%a4%b5%e0%a5%8d%e0%a4%af%e0%a4%95%e0%a5%8d%e0%a4%a4%e0%a4%bf%e0%a4%a4%e0%a5%8d%e0%a4%b5\" hreflang=\"hi\" rel=\"alternate\"/>\n",
       "<link href=\"https://www.16personalities.com/hr/esfj-osobnost\" hreflang=\"hr\" rel=\"alternate\"/>\n",
       "<link href=\"https://www.16personalities.com/hu/az-esfj-szem%c3%a9lyis%c3%a9g\" hreflang=\"hu\" rel=\"alternate\"/>\n",
       "<link href=\"https://www.16personalities.com/id/kepribadian-esfj\" hreflang=\"id\" rel=\"alternate\"/>\n",
       "<link href=\"https://www.16personalities.com/is/pers%c3%b3nuleiki-esfj\" hreflang=\"is\" rel=\"alternate\"/>\n",
       "<link href=\"https://www.16personalities.com/it/personalita-esfj\" hreflang=\"it\" rel=\"alternate\"/>\n",
       "<link href=\"https://www.16personalities.com/ja/esfj%e5%9e%8b%e3%81%ae%e6%80%a7%e6%a0%bc\" hreflang=\"ja\" rel=\"alternate\"/>\n",
       "<link href=\"https://www.16personalities.com/ko/%ec%84%b1%ea%b2%a9%ec%9c%a0%ed%98%95-esfj\" hreflang=\"ko\" rel=\"alternate\"/>\n",
       "<link href=\"https://www.16personalities.com/nl/esfj-persoonlijkheid\" hreflang=\"nl\" rel=\"alternate\"/>\n",
       "<link href=\"https://www.16personalities.com/no/esfj-personlighet\" hreflang=\"no\" rel=\"alternate\"/>\n",
       "<link href=\"https://www.16personalities.com/pl/osobowosc-esfj\" hreflang=\"pl\" rel=\"alternate\"/>\n",
       "<link href=\"https://www.16personalities.com/br/personalidade-esfj\" hreflang=\"pt-br\" rel=\"alternate\"/>\n",
       "<link href=\"https://www.16personalities.com/ro/personalitate-esfj\" hreflang=\"ro\" rel=\"alternate\"/>\n",
       "<link href=\"https://www.16personalities.com/ru/lichnost-esfj\" hreflang=\"ru\" rel=\"alternate\"/>\n",
       "<link href=\"https://www.16personalities.com/sk/esfj-osobnost\" hreflang=\"sk\" rel=\"alternate\"/>\n",
       "<link href=\"https://www.16personalities.com/sl/esfj-osebnost\" hreflang=\"sl\" rel=\"alternate\"/>\n",
       "<link href=\"https://www.16personalities.com/sr/esfj-licnost\" hreflang=\"sr\" rel=\"alternate\"/>\n",
       "<link href=\"https://www.16personalities.com/sv/esfj-personlighet\" hreflang=\"sv\" rel=\"alternate\"/>\n",
       "<link href=\"https://www.16personalities.com/sw/esfj-wa-nafsi\" hreflang=\"sw\" rel=\"alternate\"/>\n",
       "<link href=\"https://www.16personalities.com/th/esfj-%e0%b8%9a%e0%b8%b8%e0%b8%84%e0%b8%84%e0%b8%a5%e0%b8%b4%e0%b8%81%e0%b8%a0%e0%b8%b2%e0%b8%9e\" hreflang=\"th\" rel=\"alternate\"/>\n",
       "<link href=\"https://www.16personalities.com/tr/esfj-ki%c5%9fili%c4%9fi\" hreflang=\"tr\" rel=\"alternate\"/>\n",
       "<link href=\"https://www.16personalities.com/uk/osobystist-esfj\" hreflang=\"uk\" rel=\"alternate\"/>\n",
       "<script>\n",
       "\n",
       "    window.ga=window.ga||function(){(ga.q=ga.q||[]).push(arguments)};ga.l=+new Date;\n",
       "\n",
       "    ga('create', 'UA-27031617-1', 'auto');\n",
       "    ga('set', 'anonymizeIp', true);\n",
       "\n",
       "</script>\n",
       "<script async=\"\" src=\"https://www.google-analytics.com/analytics.js\"></script>\n",
       "<script async=\"\" src=\"https://www.googletagmanager.com/gtag/js?id=G-7YT1C03C8C\"></script>\n",
       "<script>\n",
       "\n",
       "        window.dataLayer = window.dataLayer || [];\n",
       "        function gtag(){dataLayer.push(arguments);}\n",
       "        gtag('js', new Date());\n",
       "\n",
       "        gtag('config', 'G-7YT1C03C8C', { 'anonymize_ip': true });\n",
       "        // gtag('config', 'AW-735624324');\n",
       "\n",
       "    </script>\n",
       "<style>[v-cloak]{display:none !important;}</style>\n",
       "<script type=\"application/ld+json\">\n",
       "        [\n",
       "            {\n",
       "                \"@context\": \"http://schema.org\",\n",
       "                \"@type\": \"BreadcrumbList\",\n",
       "                \"itemListElement\": [\n",
       "                    {\n",
       "                        \"@type\": \"ListItem\",\n",
       "                        \"position\": 1,\n",
       "                        \"name\": \"성격 유형\",\n",
       "                        \"item\": \"https://www.16personalities.com/ko/%EC%84%B1%EA%B2%A9-%EC%9C%A0%ED%98%95\"\n",
       "                    },{\n",
       "                        \"@type\": \"ListItem\",\n",
       "                        \"position\": 2,\n",
       "                        \"name\": \"집정관 (ESFJ)\",\n",
       "                        \"item\": \"https://www.16personalities.com/ko/%EC%84%B1%EA%B2%A9%EC%9C%A0%ED%98%95-esfj\"\n",
       "                    }\n",
       "                ]\n",
       "            },\n",
       "            {\n",
       "                \"@context\": \"http://schema.org\",\n",
       "                \"@type\": \"Article\",\n",
       "                \"name\": \"성격 유형: 집정관 (ESFJ)\",\n",
       "                \"url\": \"https://www.16personalities.com/ko/%EC%84%B1%EA%B2%A9%EC%9C%A0%ED%98%95-esfj\",\n",
       "                \"author\": {\n",
       "                    \"@type\": \"Organization\",\n",
       "                    \"name\": \"NERIS Analytics Limited\",\n",
       "                    \"url\": \"https://www.16personalities.com\"\n",
       "                },\n",
       "                \"datePublished\": \"2013-08-01\",\n",
       "                \"dateModified\": \"2023-07-05\",\n",
       "                \"headline\": \"성격 유형: 집정관 (ESFJ)\",\n",
       "                \"image\": {\n",
       "                    \"@type\": \"ImageObject\",\n",
       "                    \"url\": \"https://www.16personalities.com/static/images/personality-types/headers/sentinels_Consul_ESFJ_personality_header.svg\",\n",
       "                    \"height\": 350,\n",
       "                    \"width\": 1170\n",
       "                },\n",
       "                \"publisher\": {\n",
       "                    \"@type\": \"Organization\",\n",
       "                    \"name\": \"NERIS Analytics Limited\",\n",
       "                    \"logo\": {\n",
       "                        \"@type\": \"ImageObject\",\n",
       "                        \"url\": \"https://www.16personalities.com/static/images/AMP/logo.png\",\n",
       "                        \"width\": 600,\n",
       "                        \"height\": 60\n",
       "                    }\n",
       "                },\n",
       "                \"mainEntityOfPage\": \"https://www.16personalities.com/ko/%EC%84%B1%EA%B2%A9%EC%9C%A0%ED%98%95-esfj\"\n",
       "            }\n",
       "        ]\n",
       "        </script>\n",
       "<link as=\"fetch\" crossorigin=\"anonymous\" href=\"https://www.16personalities.com/static/animations/dialogs/registration/confirmation.json?v=1\" rel=\"preload\"/>\n",
       "<link as=\"image\" href=\"https://www.16personalities.com/static/animations/dialogs/registration/confirmation.svg?v=1\" rel=\"preload\"/>\n",
       "<link as=\"script\" crossorigin=\"\" href=\"https://www.16personalities.com/build/qxbwtg9nbw--00e2a255.js\" rel=\"modulepreload\"/><link as=\"script\" crossorigin=\"\" href=\"https://www.16personalities.com/build/vendors--89bb1616.js\" rel=\"modulepreload\"/><link as=\"script\" crossorigin=\"\" href=\"https://www.16personalities.com/build/dmvuzgjszq--234fec3d.js\" rel=\"modulepreload\"/><link as=\"script\" crossorigin=\"\" href=\"https://www.16personalities.com/build/dmvuzgfzaa--ae42e9fa.js\" rel=\"modulepreload\"/><link as=\"script\" crossorigin=\"\" href=\"https://www.16personalities.com/build/qxbwtmlkzgxl--01956457.js\" rel=\"modulepreload\"/><link as=\"script\" crossorigin=\"\" href=\"https://www.16personalities.com/build/agfzlx10ywjz--abb07b9a.js\" rel=\"modulepreload\"/><link as=\"script\" crossorigin=\"\" href=\"https://www.16personalities.com/build/dxnlcy5hdg--5e195c2e.js\" rel=\"modulepreload\"/><link as=\"script\" crossorigin=\"\" href=\"https://www.16personalities.com/build/qxbwtmlnahq--6b7131cf.js\" rel=\"modulepreload\"/><link as=\"script\" crossorigin=\"\" href=\"https://www.16personalities.com/build/tmf2tw9nz2xl--3ff84e44.js\" rel=\"modulepreload\"/><link href=\"https://www.16personalities.com/build/assets/tmf2tw9nz2xl--62de7df5.css\" rel=\"stylesheet\"/><link as=\"script\" crossorigin=\"\" href=\"https://www.16personalities.com/build/qxbwtm9iawxl--4922ac5c.js\" rel=\"modulepreload\"/><link as=\"script\" crossorigin=\"\" href=\"https://www.16personalities.com/build/ymluzhtleq--dcb5a784.js\" rel=\"modulepreload\"/><link as=\"script\" crossorigin=\"\" href=\"https://www.16personalities.com/build/znjlzx1ib2r5--a96b9421.js\" rel=\"modulepreload\"/><link href=\"https://www.16personalities.com/build/assets/qxbwtm9iawxl--eab73914.css\" rel=\"stylesheet\"/><link as=\"script\" crossorigin=\"\" href=\"https://www.16personalities.com/build/uxvpelvsdhm--49453911.js\" rel=\"modulepreload\"/><link href=\"https://www.16personalities.com/build/assets/uxvpelvsdhm--e3f28b21.css\" rel=\"stylesheet\"/><link as=\"script\" crossorigin=\"\" href=\"https://www.16personalities.com/build/qw5pbwf0aw9u--08be5fdd.js\" rel=\"modulepreload\"/><link as=\"script\" crossorigin=\"\" href=\"https://www.16personalities.com/build/yw5pbwr1bgu--ab2d78d4.js\" rel=\"modulepreload\"/><link as=\"script\" crossorigin=\"\" href=\"https://www.16personalities.com/build/rwxjbwfnzq--1d19be20.js\" rel=\"modulepreload\"/><link as=\"script\" crossorigin=\"\" href=\"https://www.16personalities.com/build/vhlwzu5ncw--11c788af.js\" rel=\"modulepreload\"/><link href=\"https://www.16personalities.com/build/assets/vhlwzu5ncw--b58f314f.css\" rel=\"stylesheet\"/><link as=\"script\" crossorigin=\"\" href=\"https://www.16personalities.com/build/q2hly25hba--57b2a14e.js\" rel=\"modulepreload\"/><link as=\"script\" crossorigin=\"\" href=\"https://www.16personalities.com/build/q3rhq2vib29r--61285258.js\" rel=\"modulepreload\"/><link href=\"https://www.16personalities.com/build/assets/q3rhq2vib29r--ccd22015.css\" rel=\"stylesheet\"/><link as=\"script\" crossorigin=\"\" href=\"https://www.16personalities.com/build/q2fyb3vzzww--b90612a7.js\" rel=\"modulepreload\"/><link href=\"https://www.16personalities.com/build/assets/q2fyb3vzzww--7d486271.css\" rel=\"stylesheet\"/><link as=\"script\" crossorigin=\"\" href=\"https://www.16personalities.com/build/u2hhcm9vaw--404cfb56.js\" rel=\"modulepreload\"/><link as=\"script\" crossorigin=\"\" href=\"https://www.16personalities.com/build/x0fic3hhcmu--395ede22.js\" rel=\"modulepreload\"/><link href=\"https://www.16personalities.com/build/assets/u2hhcm9vaw--c920d79a.css\" rel=\"stylesheet\"/><link as=\"script\" crossorigin=\"\" href=\"https://www.16personalities.com/build/u2hhcml0dgvy--70f9e1f3.js\" rel=\"modulepreload\"/><link href=\"https://www.16personalities.com/build/assets/u2hhcml0dgvy--982c9aa1.css\" rel=\"stylesheet\"/><link as=\"script\" crossorigin=\"\" href=\"https://www.16personalities.com/build/u2hhcmjlc3q--8bc3f9d6.js\" rel=\"modulepreload\"/><link href=\"https://www.16personalities.com/build/assets/u2hhcmjlc3q--5854c1f5.css\" rel=\"stylesheet\"/><link as=\"script\" crossorigin=\"\" href=\"https://www.16personalities.com/build/u2hhcmfwca--ade25024.js\" rel=\"modulepreload\"/><link href=\"https://www.16personalities.com/build/assets/u2hhcmfwca--a022c139.css\" rel=\"stylesheet\"/><link as=\"script\" crossorigin=\"\" href=\"https://www.16personalities.com/build/u2hhcm5nzxi--d720cd90.js\" rel=\"modulepreload\"/><link href=\"https://www.16personalities.com/build/assets/u2hhcm5nzxi--88e0ac8a.css\" rel=\"stylesheet\"/><link as=\"script\" crossorigin=\"\" href=\"https://www.16personalities.com/build/u2hhcmfpba--36a444c3.js\" rel=\"modulepreload\"/><link href=\"https://www.16personalities.com/build/assets/u2hhcmfpba--7922680e.css\" rel=\"stylesheet\"/><link as=\"script\" crossorigin=\"\" href=\"https://www.16personalities.com/build/u2hhcmrlcg--b9f1baa9.js\" rel=\"modulepreload\"/><link href=\"https://www.16personalities.com/build/assets/u2hhcmrlcg--0785829e.css\" rel=\"stylesheet\"/><link as=\"script\" crossorigin=\"\" href=\"https://www.16personalities.com/build/u2vhcm9kyww--919965ad.js\" rel=\"modulepreload\"/><link as=\"script\" crossorigin=\"\" href=\"https://www.16personalities.com/build/x0fic3rhba--e0b55aa3.js\" rel=\"modulepreload\"/><link href=\"https://www.16personalities.com/build/assets/u2vhcm9kyww--9bca5359.css\" rel=\"stylesheet\"/><link as=\"script\" crossorigin=\"\" href=\"https://www.16personalities.com/build/qxv0ae9naw4--f80dbdd0.js\" rel=\"modulepreload\"/><link as=\"script\" crossorigin=\"\" href=\"https://www.16personalities.com/build/yxr0zwdpbg--377f5c07.js\" rel=\"modulepreload\"/><link as=\"script\" crossorigin=\"\" href=\"https://www.16personalities.com/build/qxv0aedvcmq--586075ce.js\" rel=\"modulepreload\"/><link as=\"script\" crossorigin=\"\" href=\"https://www.16personalities.com/build/c2vuzh9kzq--4cf5a3e9.js\" rel=\"modulepreload\"/><link as=\"script\" crossorigin=\"\" href=\"https://www.16personalities.com/build/qxv0aef0aw9u--43a68524.js\" rel=\"modulepreload\"/><link as=\"script\" crossorigin=\"\" href=\"https://www.16personalities.com/build/qxv0aef0aw9u--e57dc7fe.js\" rel=\"modulepreload\"/><link as=\"script\" crossorigin=\"\" href=\"https://www.16personalities.com/build/qxv0aen0zxi--9c4a5fa6.js\" rel=\"modulepreload\"/><link href=\"https://www.16personalities.com/build/assets/qxv0aen0zxi--b156aa4d.css\" rel=\"stylesheet\"/><link as=\"script\" crossorigin=\"\" href=\"https://www.16personalities.com/build/qxbwrxjyb3jz--5873af15.js\" rel=\"modulepreload\"/><link href=\"https://www.16personalities.com/build/assets/qxbwrxjyb3jz--325efe03.css\" rel=\"stylesheet\"/><link as=\"script\" crossorigin=\"\" href=\"https://www.16personalities.com/build/rm9vdg9jawfs--692598ec.js\" rel=\"modulepreload\"/><link href=\"https://www.16personalities.com/build/assets/rm9vdg9jawfs--a9af42b5.css\" rel=\"stylesheet\"/><link as=\"script\" crossorigin=\"\" href=\"https://www.16personalities.com/build/sw5wdxfpba--69b2b366.js\" rel=\"modulepreload\"/><link as=\"script\" crossorigin=\"\" href=\"https://www.16personalities.com/build/assets/app-6b0ed282.js\" rel=\"modulepreload\"/><link href=\"https://www.16personalities.com/build/assets/yxbwyxbw--aca31f67.css\" rel=\"stylesheet\"/><link as=\"script\" crossorigin=\"\" href=\"https://www.16personalities.com/build/rwxjbnb1da--2843581d.js\" rel=\"modulepreload\"/><link as=\"script\" crossorigin=\"\" href=\"https://www.16personalities.com/build/aw5wdxqtc2zj--8292ea18.js\" rel=\"modulepreload\"/><link href=\"https://www.16personalities.com/build/assets/rwxjbnb1da--30e8ea22.css\" rel=\"stylesheet\"/><link as=\"script\" crossorigin=\"\" href=\"https://www.16personalities.com/build/rwxdagjvea--aa5bf789.js\" rel=\"modulepreload\"/><link href=\"https://www.16personalities.com/build/assets/rwxdagjvea--bbbb662d.css\" rel=\"stylesheet\"/><link as=\"script\" crossorigin=\"\" href=\"https://www.16personalities.com/build/rwxnb2rhba--330631a8.js\" rel=\"modulepreload\"/><link href=\"https://www.16personalities.com/build/assets/rwxnb2rhba--14d9e6cb.css\" rel=\"stylesheet\"/><link as=\"script\" crossorigin=\"\" href=\"https://www.16personalities.com/build/swnvbj9izq--5d37b411.js\" rel=\"modulepreload\"/><link as=\"script\" crossorigin=\"\" href=\"https://www.16personalities.com/build/swnvblrpbwvz--f0fef444.js\" rel=\"modulepreload\"/><link href=\"https://www.16personalities.com/build/assets/swnvblrpbwvz--1cfb45c1.css\" rel=\"stylesheet\"/><link as=\"script\" crossorigin=\"\" href=\"https://www.16personalities.com/build/rwxdyxxdyxjk--7372d047.js\" rel=\"modulepreload\"/><link as=\"script\" crossorigin=\"\" href=\"https://www.16personalities.com/build/swnvbk1pegvk--238e99ff.js\" rel=\"modulepreload\"/><link as=\"script\" crossorigin=\"\" href=\"https://www.16personalities.com/build/u29jawrlcg--794d57d3.js\" rel=\"modulepreload\"/><link as=\"script\" crossorigin=\"\" href=\"https://www.16personalities.com/build/swnvbkvsb3bl--ce4b4560.js\" rel=\"modulepreload\"/><link as=\"script\" crossorigin=\"\" href=\"https://www.16personalities.com/build/sw5wdx9yza--2df6a21b.js\" rel=\"modulepreload\"/><link href=\"https://www.16personalities.com/build/assets/sw5wdx9yza--21190453.css\" rel=\"stylesheet\"/><link as=\"script\" crossorigin=\"\" href=\"https://www.16personalities.com/build/u29jawjvb2s--89efeba3.js\" rel=\"modulepreload\"/><link as=\"script\" crossorigin=\"\" href=\"https://www.16personalities.com/build/u29jawfncmft--33833fba.js\" rel=\"modulepreload\"/><link as=\"script\" crossorigin=\"\" href=\"https://www.16personalities.com/build/rwxjy2xjy29u--a7aefd58.js\" rel=\"modulepreload\"/><link href=\"https://www.16personalities.com/build/assets/rwxjy2xjy29u--1557020a.css\" rel=\"stylesheet\"/><link as=\"script\" crossorigin=\"\" href=\"https://www.16personalities.com/build/r3jhcgizoda--ef647b10.js\" rel=\"modulepreload\"/><link href=\"https://www.16personalities.com/build/assets/r3jhcgizoda--b57b4636.css\" rel=\"stylesheet\"/><link as=\"script\" crossorigin=\"\" href=\"https://www.16personalities.com/build/swnvbkfycm93--7e3769d8.js\" rel=\"modulepreload\"/><link href=\"https://www.16personalities.com/build/assets/swnvbkfycm93--4da9bdf9.css\" rel=\"stylesheet\"/><link as=\"script\" crossorigin=\"\" href=\"https://www.16personalities.com/build/sw5wdxfycw--8e2000fe.js\" rel=\"modulepreload\"/><link href=\"https://www.16personalities.com/build/assets/sw5wdxfycw--d85e3690.css\" rel=\"stylesheet\"/><link as=\"script\" crossorigin=\"\" href=\"https://www.16personalities.com/build/tw9kyw1tzw50--9a1b5dd5.js\" rel=\"modulepreload\"/><link href=\"https://www.16personalities.com/build/assets/tw9kyw1tzw50--17b39d39.css\" rel=\"stylesheet\"/><link as=\"script\" crossorigin=\"\" href=\"https://www.16personalities.com/build/swnvbln0yxi--d653b1b5.js\" rel=\"modulepreload\"/><link as=\"script\" crossorigin=\"\" href=\"https://www.16personalities.com/build/rwxjbn91ca--66ecfd62.js\" rel=\"modulepreload\"/><link href=\"https://www.16personalities.com/build/assets/rwxjbn91ca--9f358da8.css\" rel=\"stylesheet\"/></head>\n",
       "<body class=\"body--freeze--_fzr4pl0huh body--results\" role=\"document\">\n",
       "<ul class=\"sr-only\">\n",
       "<li><a href=\"#skip-content\" id=\"access-main\">Skip to main content</a></li>\n",
       "<li><a href=\"#skip-search\">Skip to search</a></li>\n",
       "</ul>\n",
       "<div class=\"main-wrapper int ko\" id=\"main-app\"><div class=\"navbar sticky\" data-chunk=\" \"><div class=\"logo\" style=\"display: none;\"><img alt=\"16Personalities\" src=\"https://www.16personalities.com/static/images/system/logo.svg\"/></div> <a class=\"logo guest logo__link\" href=\"https://www.16personalities.com/ko\" style=\"\" title=\"Homepage\"><img alt=\"16Personalities\" src=\"https://www.16personalities.com/static/images/system/logo.svg\"/></a> <nav class=\"sp-nav__topmiddle middle-section guest\" style=\"display: none;\"><nav class=\"sp-nav__topmiddle middle-section international anonymous\"><ul><li><a href=\"https://www.16personalities.com/ko/%EB%AC%B4%EB%A3%8C-%EC%84%B1%EA%B2%A9-%EC%9C%A0%ED%98%95-%EA%B2%80%EC%82%AC\">성격 유형 검사</a></li> <li class=\"active\"><a href=\"https://www.16personalities.com/ko/%EC%84%B1%EA%B2%A9-%EC%9C%A0%ED%98%95\">성격 유형  </a></li> <li><a href=\"https://www.16personalities.com/ko/%EC%97%B0%EB%9D%BD%EC%B2%98\">문의</a></li></ul></nav></nav> <nav aria-label=\"Main\" class=\"sp-nav__topmiddle middle-section guest international\" style=\"\"><ul><li class=\"\"><a href=\"https://www.16personalities.com/ko/%EB%AC%B4%EB%A3%8C-%EC%84%B1%EA%B2%A9-%EC%9C%A0%ED%98%95-%EA%B2%80%EC%82%AC\" tabindex=\"0\"><span class=\"nav__text\">성격 유형 검사</span> <!-- --></a> <!-- --></li><li class=\"active\"><a href=\"https://www.16personalities.com/ko/%EC%84%B1%EA%B2%A9-%EC%9C%A0%ED%98%95\" tabindex=\"-1\"><span class=\"nav__text\">성격 유형  </span> <!-- --></a> <!-- --></li><li class=\"\"><a href=\"https://www.16personalities.com/ko/%EC%97%B0%EB%9D%BD%EC%B2%98\" tabindex=\"-1\"><span class=\"nav__text\">문의</span> <!-- --></a> <!-- --></li></ul></nav> <div class=\"right-section\" style=\"display: none;\"><a class=\"language-link sp-action sp-link link--icon-lt\" href=\"https://www.16personalities.com/languages\"><span class=\"lang--flag\"><img src=\"https://www.16personalities.com/static/images/international/flags/kr.svg\"/></span> <span class=\"lang--full\">한국어</span></a></div> <div class=\"nav--right right-section guest\" style=\"\"><a class=\"language-link sp-action sp-link link--icon-lt\" data-v-1484b467=\"\" href=\"/languages\"><!-- --><span class=\"lang--flag\" data-v-1484b467=\"\"><img data-v-1484b467=\"\" src=\"https://www.16personalities.com/static/images/international/flags/kr.svg\"/></span> <span class=\"lang--full\" data-v-1484b467=\"\">한국어</span><!-- --><!-- --></a></div> <button aria-controls=\"mobile-menu\" aria-expanded=\"false\" aria-labelledby=\"mobile-menu-label_false\" class=\"sp-nav__mobiletoggle\" data-v-c3a89530=\"\" tabindex=\"0\"><svg aria-hidden=\"true\" class=\"bars\" data-fa-i2svg=\"\" data-icon=\"bars\" data-prefix=\"fal\" data-v-c3a89530=\"\" focusable=\"false\" role=\"img\" viewbox=\"0 0 448 512\" xmlns=\"http://www.w3.org/2000/svg\"><path d=\"M442 114H6a6 6 0 0 1-6-6V84a6 6 0 0 1 6-6h436a6 6 0 0 1 6 6v24a6 6 0 0 1-6 6zm0 160H6a6 6 0 0 1-6-6v-24a6 6 0 0 1 6-6h436a6 6 0 0 1 6 6v24a6 6 0 0 1-6 6zm0 160H6a6 6 0 0 1-6-6v-24a6 6 0 0 1 6-6h436a6 6 0 0 1 6 6v24a6 6 0 0 1-6 6z\" data-v-c3a89530=\"\" fill=\"currentColor\"></path></svg> <span data-v-c3a89530=\"\" hidden=\"hidden\" id=\"mobile-menu-label_false\">Main menu</span></button></div> <div aria-labelledby=\"mobile-menu-label\" class=\"sp-nav__mobile\" data-v-8dc00529=\"\" id=\"mobile-menu\" style=\"\"><div class=\"nav__background\" data-v-8dc00529=\"\"></div> <div class=\"menu has-results\" data-v-8dc00529=\"\"><button aria-controls=\"mobile-menu\" aria-expanded=\"false\" aria-labelledby=\"mobile-menu-label_true\" class=\"sp-nav__mobiletoggle is--open\" data-v-8dc00529=\"\" data-v-c3a89530=\"\" tabindex=\"-1\"><span class=\"sp-icon color--inherit icon--md icon--times\" data-v-610b5786=\"\" data-v-c3a89530=\"\"><svg aria-labelledby=\"i_w4n3j36p55\" role=\"img\" viewbox=\"0 0 48 48\" xmlns=\"http://www.w3.org/2000/svg\"><title id=\"i_w4n3j36p55\">Close</title> <path d=\"m27.178 24 9.619-9.619 1.978-1.978a.753.753 0 0 0 0-1.06l-2.119-2.118a.753.753 0 0 0-1.06 0L24 20.822 12.403 9.216a.753.753 0 0 0-1.06 0l-2.127 2.128a.753.753 0 0 0 0 1.06L20.822 24 9.216 35.597a.753.753 0 0 0 0 1.06l2.118 2.118c.291.29.77.29 1.06 0L24 27.178l9.619 9.619 1.978 1.978c.29.29.769.29 1.06 0l2.118-2.119a.753.753 0 0 0 0-1.06L27.178 24z\" data-v-610b5786=\"\" fill-rule=\"evenodd\"></path></svg></span> <span data-v-c3a89530=\"\" hidden=\"hidden\" id=\"mobile-menu-label_true\">Main menu</span></button> <span autofocus=\"autofocus\" data-v-8dc00529=\"\"></span> <div class=\"part padded test-button\" data-v-8dc00529=\"\"><a class=\"test-button sp-action sp-button button--action button--purple button--md button--pill button--auto\" data-v-8dc00529=\"\" href=\"https://www.16personalities.com/ko/%EB%AC%B4%EB%A3%8C-%EC%84%B1%EA%B2%A9-%EC%9C%A0%ED%98%95-%EA%B2%80%EC%82%AC\" tabindex=\"-1\"><!-- --><span class=\"button__text\">검사 실시</span><!-- --><!-- --></a></div> <div class=\"menu__scrollable scrollable\" data-v-8dc00529=\"\"><div class=\"part\" data-v-8dc00529=\"\"><a class=\"nav__link--mobile no-formatting item\" data-v-8dc00529=\"\" href=\"https://www.16personalities.com/ko/%EB%AC%B4%EB%A3%8C-%EC%84%B1%EA%B2%A9-%EC%9C%A0%ED%98%95-%EA%B2%80%EC%82%AC\" tabindex=\"-1\">\n",
       "              성격 유형 검사\n",
       "            </a><a class=\"nav__link--mobile no-formatting item active\" data-v-8dc00529=\"\" href=\"https://www.16personalities.com/ko/%EC%84%B1%EA%B2%A9-%EC%9C%A0%ED%98%95\" tabindex=\"-1\">\n",
       "              성격 유형  \n",
       "            </a><a class=\"nav__link--mobile no-formatting item\" data-v-8dc00529=\"\" href=\"https://www.16personalities.com/ko/%EC%97%B0%EB%9D%BD%EC%B2%98\" tabindex=\"-1\">\n",
       "              문의\n",
       "            </a></div> <!-- --> <!-- --> <div class=\"part no-border auth\" data-v-8dc00529=\"\"><a class=\"sp-action sp-button button--action button--white button--tn button--pill button--auto\" data-v-8dc00529=\"\" href=\"/\" tabindex=\"-1\"><!-- --><span class=\"button__text\">English version</span><!-- --><!-- --></a></div></div></div></div> <main class=\"q-td sentinel consul\"><div class=\"quiz__results quiz__results--full-screen\" data-chunk=\"international-chunk\"><div class=\"results__cards results__cards--bg-gray-04\" data-v-356ad83d=\"\" style=\"\"><div class=\"sp-card card card--blue has--shadow has--color has__line--top card--intro\" data-v-356ad83d=\"\"><div class=\"card__inner\"><hr aria-hidden=\"true\" class=\"card__line\"/> <!-- --> <div class=\"card__body\"><!-- --> <div class=\"card__text\"><!-- --> <!-- --> <!-- --> <div class=\"results__background\" data-v-356ad83d=\"\"><svg data-v-356ad83d=\"\" viewbox=\"0 0 476.77 68.65\" xmlns=\"http://www.w3.org/2000/svg\"><g data-v-356ad83d=\"\" id=\"a\"><path class=\"cl__top\" d=\"M383.59 35.96 280.61 11.99 359.62 0l42.5 7.08 74.65-1.63-93.18 30.51zM116.06 56.67 56.67 68.65 0 52.31l44.13 1.63 25.61-4.36 46.32 7.09z\" data-v-356ad83d=\"\"></path></g> <g data-v-356ad83d=\"\" id=\"b\"><path class=\"cl__bottom\" d=\"M383.59 35.96 280.61 11.99l109.52 10.89 86.64-17.43-93.18 30.51zM116.06 56.67 56.67 68.65 0 52.31l53.4 8.72 62.66-4.36z\" data-v-356ad83d=\"\"></path></g></svg></div> <div class=\"results__intro\" data-v-356ad83d=\"\">\n",
       "        성격 유형:\n",
       "      </div> <div class=\"results__type__name\" data-v-356ad83d=\"\">\n",
       "        집정관\n",
       "      </div> <div class=\"results__type__code results__type__code--blue\" data-v-356ad83d=\"\">\n",
       "        ESFJ-T\n",
       "      </div> <div class=\"results__avatar\" data-v-356ad83d=\"\"><div class=\"sp-animation\" data-v-356ad83d=\"\" id=\"anim_g0v00njd28\"><!-- --> <div class=\"image animated\" role=\"img\" style=\"display: none;\"></div> <img class=\"image static\" loading=\"lazy\" src=\"https://www.16personalities.com/static/images/personality-types/avatars/esfj-consul.svg?v=2\"/></div></div> <div class=\"results__type__snippet\" data-v-356ad83d=\"\">\n",
       "        집정관은 배려심이 넘치고 항상 다른 사람을 도울 준비가 되어 있는 성격으로, 인기가 많고 사교성 높은 마당발입니다.\n",
       "      </div> <!-- --> <!-- --></div> <div class=\"card__actions\"><div class=\"action__back\" data-v-356ad83d=\"\"><!-- --></div> <div class=\"action__dots\" data-v-356ad83d=\"\"><div class=\"dot dot--active\" data-v-356ad83d=\"\"></div><div class=\"dot\" data-v-356ad83d=\"\"></div><div class=\"dot\" data-v-356ad83d=\"\"></div><div class=\"dot\" data-v-356ad83d=\"\"></div><div class=\"dot\" data-v-356ad83d=\"\"></div><div class=\"dot\" data-v-356ad83d=\"\"></div><div class=\"dot\" data-v-356ad83d=\"\"></div><div class=\"dot\" data-v-356ad83d=\"\"></div></div> <button class=\"action__next sp-action sp-button button--action button--blue button--md button--pill button--auto\" data-v-356ad83d=\"\" type=\"button\"><!-- --><span class=\"button__text\">다음</span><!-- --><!-- --></button> </div></div> <!-- --></div></div></div> <link as=\"image\" href=\"https://www.16personalities.com/static/images/theory/traits/16personalities_trait_extraverted.svg\" rel=\"preload\"/> <link as=\"image\" href=\"https://www.16personalities.com/static/images/theory/traits/16personalities_trait_observant.svg\" rel=\"preload\"/> <link as=\"image\" href=\"https://www.16personalities.com/static/images/theory/traits/16personalities_trait_feeling.svg\" rel=\"preload\"/> <link as=\"image\" href=\"https://www.16personalities.com/static/images/theory/traits/16personalities_trait_judging.svg\" rel=\"preload\"/> <link as=\"image\" href=\"https://www.16personalities.com/static/images/theory/traits/16personalities_trait_turbulent.svg\" rel=\"preload\"/></div> <div class=\"results__overlay\"><div aria-busy=\"true\" aria-live=\"polite\" aria-valuetext=\"Loading…\" class=\"sp-spinner spinner--colorful spinner--full spinner--full-margins\" role=\"progressbar\" style=\"display: none;\"><div class=\"spinner__outer circles\"><svg class=\"spinner__inner\" height=\"100\" version=\"1.1\" viewbox=\"0 0 100 100\" width=\"100\" xmlns=\"http://www.w3.org/2000/svg\"><circle class=\"twirl blue\" cx=\"50\" cy=\"50\" r=\"37\"></circle> <circle class=\"twirl yellow\" cx=\"50\" cy=\"50\" r=\"30\"></circle> <circle class=\"twirl green\" cx=\"50\" cy=\"50\" r=\"20\"></circle> <circle class=\"pulse purple\" cx=\"50\" cy=\"50\" r=\"12\"></circle></svg></div></div></div> <header class=\"type-header sentinel consul\"><svg class=\"background\" preserveaspectratio=\"none\" viewbox=\"0 0 1920 600\"><path class=\"st0\" d=\"M400 598.9l1520-152.8v164.4H0v-288z\"></path><path class=\"st1\" d=\"M923.4 546.3l996.6-97.4V1.5h-851z\"></path></svg> <img class=\"scene\" src=\"https://www.16personalities.com/static/images/personality-types/headers/sentinels_Consul_ESFJ_personality_header.svg\"/> <div class=\"type-info\"><h1>\n",
       "                                                                    성격 유형: <span>집정관</span></h1> <div class=\"code\">ESFJ-A / ESFJ-T</div></div></header> <div class=\"with-sidebars\"><article class=\"main description\"><h1>\n",
       "                                                            성격 유형: 집정관\n",
       "                                                    </h1> <blockquote><p>서로를 응원하고 기운을 북돋아 주어라. 긍정적인 에너지가 모두에게 퍼져 나갈 것이다.</p> <footer>데보라 데이</footer></blockquote> <p>집정관(ESFJ)에게 인생이란 남과 함께 나눌 때 가장 즐거운 것입니다. 이들은 여러 사람을 하나로 모으는 역할을 하며 솔직하고 개방적인 태도로 친구와 연인과 이웃을 대합니다.</p> <p>집정관이라고 모든 사람을 좋아하고 무한한 관용을 베푸는 것은 아닙니다. 하지만 일반적으로 친절하고 따뜻한 태도를 유지하는 것이 도움이 되리라고 믿으며, 주변 사람들에 대한 강한 책임감을 느끼곤 합니다. 이들은 관대하고 믿을 수 있는 성격으로 가족과 주변 사람을 챙기기 위해 자신을 희생할 때가 많습니다.</p> <div class=\"description-pullout\">집정관은 다른 사람을 배려하고 보호할 수 있는 능력을 지니고 있습니다.</div> <div class=\"scene\"> <div class=\"sp-animation\" id=\"anim_jgopi7kpid\"><!-- --> <div aria-label=\"성격 유형: “집정관” (ESFJ-A / ESFJ-T)\" class=\"image animated\" role=\"img\" style=\"display: none;\"></div> <img alt=\"성격 유형: “집정관” (ESFJ-A / ESFJ-T)\" class=\"image static\" loading=\"lazy\" src=\"https://www.16personalities.com/static/animations/type-descriptions/introductions/consul.svg\" style=\"\"/></div></div> <h2>책임감 있는 삶</h2> <p>집정관은 이타적인 성격으로, 자신이 받은 도움에 보답하고 다른 사람을 돕고 올바른 일을 해야 한다는 책임감을 느낍니다.</p> <p>또한 집정관은 대부분의 상황에서 옳고 그름을 명확히 판단할 수 있다고 믿습니다. 여유로운 태도로 자신과 남에게 관대한 태도를 보이는 일부 성격과 달리, 이들은 다른 사람이 잘못된 길을 가고 있다고 생각하면 이를 참기 어려워합니다. 이 때문에 가까운 사람의 의견이 자신과 다를 수 있다는 사실을 받아들이기 힘들어할 때가 많습니다.</p> <div class=\"description-pullout\">집정관의 도덕적 기준은 명확하며 자신의 기준과 다르게 행동하는 사람을 이해하기 힘들어할 때가 있습니다.</div> <p>집정관은 옳고 그름을 명확히 판단하는 성향으로 인해 독선적인 모습을 보일 때가 있습니다. 그렇다고 이들이 제멋대로 의견을 내는 성격은 아닙니다. 보통 이들의 의견은 기존 관습을 기반으로 하기 때문입니다. 이들은 자신의 모든 행동이 다른 사람에게 영향을 미칠 수 있음을 알고 있으며, 다른 사람을 배려하고 책임을 지는 데 법과 규칙과 사회 규범이 도움이 될 것이라고 믿고 있습니다.</p> <h2>장기적 관계 구축</h2> <p>집정관은 배려심 넘치고 사교적인 성격입니다. 파티에서 모든 사람이 즐거운 시간을 보내고 있는지 확인하느라 분주한 사람이 있다면 바로 집정관일 것입니다. 하지만 그렇다고 이들이 가벼운 관계를 추구하는 성격인 것은 아닙니다. 이들은 매우 충실한 성격으로 장기적인 관계를 구축하며, 도움이 필요한 사람이 있다면 기꺼이 도움의 손길을 건넵니다.</p> <div class=\"description-pullout\">집정관은 다른 사람의 생일이나 기념일을 잊는 경우가 거의 없습니다. 이들은 인간관계에 헌신하며 친구나 연인과 관련이 있다면 아무리 사소한 일이라도 반드시 기억합니다.</div> <p>집정관은 질서와 체계를 중시하며 즉흥적인 만남이나 자유 활동보다는 계획된 행사를 선호합니다. 또한 모든 활동이 수월히 진행되도록 행사를 진행하는 일도 즐거워합니다. 이들은 사람들이 행복할 수 있도록 막대한 에너지를 투자하며 자신의 노력을 인정받지 못할 때는 상처를 받곤 합니다.</p> <p>집정관은 자신이 다른 사람, 특히 자신과 가까운 사람의 생각이나 행동을 통제할 수 없다는 사실을 받아들이기 어려워합니다. 이때 다른 사람의 생각이나 행동을 바꾸려고 노력하는 대신 남을 돌보고 배려하며 책임감 있는 모습을 보이고, 다른 사람들이 협력하도록 이끈다면 마음의 안정을 찾고 만족감을 느낄 수 있을 것입니다.</p> <div class=\"type__ratings type__ratings--int\" data-chunk=\"type-chunk\" data-v-a80cd230=\"\"><div data-v-a80cd230=\"\"><fieldset aria-disabled=\"false\" aria-invalid=\"false\" aria-required=\"false\" class=\"inputoptions sp-inputstars group--inline stars--blue stars--lg\" data-v-16813d6e=\"\" data-v-a80cd230=\"\" data-v-bba230c1=\"\"><legend class=\"sr-only\" data-v-16813d6e=\"\" id=\"label__wo5o68b87m\">테스트 결과가 얼마나 정확한가요? <!-- --> <!-- --> <!-- --></legend> <div aria-hidden=\"true\" class=\"input__label\" data-v-16813d6e=\"\">\n",
       "      테스트 결과가 얼마나 정확한가요?\n",
       "     <!-- --></div> <!-- --> <div class=\"group__options\" data-groupoptions=\"\" data-v-16813d6e=\"\"> <label class=\"star__label\" data-star=\"1\" data-v-16813d6e=\"\" data-v-bba230c1=\"\" tabindex=\"0\"><input data-v-16813d6e=\"\" data-v-bba230c1=\"\" tabindex=\"-1\" type=\"radio\" value=\"1\"/> <span class=\"sp-icon icon--lg icon--star\" data-v-16813d6e=\"\" data-v-bba230c1=\"\"><svg aria-labelledby=\"i_aja38ejsjy\" role=\"img\" viewbox=\"0 0 48 48\" xmlns=\"http://www.w3.org/2000/svg\"><title id=\"i_aja38ejsjy\">테스트 결과가 얼마나 정확한가요?</title> <g class=\"inputstar__g\" filter=\"url(#inner-shadow)\"><path d=\"M21.345 2.676 15.508 14.51 2.45 16.414c-2.341996.34-3.279996 3.227-1.581996 4.88L10.316 30.501 8.08 43.506c-.402 2.351 2.074 4.112 4.148 3.013l11.682-6.141 11.683 6.14c2.074 1.091 4.55-.66 4.147-3.012l-2.234-13.005 9.448-9.207c1.698-1.653.76-4.54-1.582-4.88l-13.06-1.904-5.836-11.834c-1.046-2.11-4.076-2.137-5.131 0Z\" fill=\"#fff\"></path></g> <path class=\"inputstar__stroke\" d=\"m15.5801 15.0048.2601-.0379.1162-.2357 5.8369-11.83386c.8689-1.76004 3.3693-1.74393 4.2345.00018 0 .00018.0001.00037.0002.00056l5.8356 11.83302.1162.2358.2601.0379 13.06 1.904h.0003c1.9314.2804 2.7061 2.663 1.305 4.0269l-.0002.0002-9.448 9.207-.1883.1836.0445.2591 2.234 13.0048v.0003c.3317 1.9365-1.7081 3.3861-3.4214 2.4848l-.0002-.0001-11.683-6.14-.2326-.1223-.2326.1223-11.6821 6.141-.0014.0008c-1.7099.906-3.7526-.5479-3.42105-2.4869l2.23595-13.0046.0445-.2592-.1883-.1836-9.44804-9.207-.00018-.0002c-1.401108-1.3639-.626396-3.7465 1.30506-4.0269h.00031l13.05795-1.904Z\" fill=\"none\" stroke=\"#BBBFC6\"></path> <defs><filter color-interpolation-filters=\"sRGB\" filterunits=\"userSpaceOnUse\" height=\"45.7707\" id=\"inner-shadow\" width=\"47.82\" x=\".00100708\" y=\"1.08336\"><feflood flood-opacity=\"0\" result=\"BackgroundImageFix\"></feflood> <feblend in=\"SourceGraphic\" in2=\"BackgroundImageFix\" result=\"shape\"></feblend> <fecolormatrix in=\"SourceAlpha\" result=\"hardAlpha\" values=\"0 0 0 0 0 0 0 0 0 0 0 0 0 0 0 0 0 0 127 0\"></fecolormatrix> <feoffset dy=\"2\"></feoffset> <fecomposite in2=\"hardAlpha\" k2=\"-1\" k3=\"1\" operator=\"arithmetic\"></fecomposite> <fecolormatrix values=\"0 0 0 0 0.317647 0 0 0 0 0.34902 0 0 0 0 0.415686 0 0 0 0.05 0\"></fecolormatrix> <feblend in2=\"shape\" result=\"effect1_innerShadow_123_231\"></feblend></filter></defs></svg></span> <span class=\"sr-only\" data-v-16813d6e=\"\" data-v-bba230c1=\"\">매우 정확하지 않음</span></label><label class=\"star__label\" data-star=\"2\" data-v-16813d6e=\"\" data-v-bba230c1=\"\" tabindex=\"-1\"><input data-v-16813d6e=\"\" data-v-bba230c1=\"\" tabindex=\"-1\" type=\"radio\" value=\"2\"/> <span class=\"sp-icon icon--lg icon--star\" data-v-16813d6e=\"\" data-v-bba230c1=\"\"><svg aria-labelledby=\"i_qvlp35tvew\" role=\"img\" viewbox=\"0 0 48 48\" xmlns=\"http://www.w3.org/2000/svg\"><title id=\"i_qvlp35tvew\">테스트 결과가 얼마나 정확한가요?</title> <g class=\"inputstar__g\" filter=\"url(#inner-shadow)\"><path d=\"M21.345 2.676 15.508 14.51 2.45 16.414c-2.341996.34-3.279996 3.227-1.581996 4.88L10.316 30.501 8.08 43.506c-.402 2.351 2.074 4.112 4.148 3.013l11.682-6.141 11.683 6.14c2.074 1.091 4.55-.66 4.147-3.012l-2.234-13.005 9.448-9.207c1.698-1.653.76-4.54-1.582-4.88l-13.06-1.904-5.836-11.834c-1.046-2.11-4.076-2.137-5.131 0Z\" fill=\"#fff\"></path></g> <path class=\"inputstar__stroke\" d=\"m15.5801 15.0048.2601-.0379.1162-.2357 5.8369-11.83386c.8689-1.76004 3.3693-1.74393 4.2345.00018 0 .00018.0001.00037.0002.00056l5.8356 11.83302.1162.2358.2601.0379 13.06 1.904h.0003c1.9314.2804 2.7061 2.663 1.305 4.0269l-.0002.0002-9.448 9.207-.1883.1836.0445.2591 2.234 13.0048v.0003c.3317 1.9365-1.7081 3.3861-3.4214 2.4848l-.0002-.0001-11.683-6.14-.2326-.1223-.2326.1223-11.6821 6.141-.0014.0008c-1.7099.906-3.7526-.5479-3.42105-2.4869l2.23595-13.0046.0445-.2592-.1883-.1836-9.44804-9.207-.00018-.0002c-1.401108-1.3639-.626396-3.7465 1.30506-4.0269h.00031l13.05795-1.904Z\" fill=\"none\" stroke=\"#BBBFC6\"></path> <defs><filter color-interpolation-filters=\"sRGB\" filterunits=\"userSpaceOnUse\" height=\"45.7707\" id=\"inner-shadow\" width=\"47.82\" x=\".00100708\" y=\"1.08336\"><feflood flood-opacity=\"0\" result=\"BackgroundImageFix\"></feflood> <feblend in=\"SourceGraphic\" in2=\"BackgroundImageFix\" result=\"shape\"></feblend> <fecolormatrix in=\"SourceAlpha\" result=\"hardAlpha\" values=\"0 0 0 0 0 0 0 0 0 0 0 0 0 0 0 0 0 0 127 0\"></fecolormatrix> <feoffset dy=\"2\"></feoffset> <fecomposite in2=\"hardAlpha\" k2=\"-1\" k3=\"1\" operator=\"arithmetic\"></fecomposite> <fecolormatrix values=\"0 0 0 0 0.317647 0 0 0 0 0.34902 0 0 0 0 0.415686 0 0 0 0.05 0\"></fecolormatrix> <feblend in2=\"shape\" result=\"effect1_innerShadow_123_231\"></feblend></filter></defs></svg></span> <span class=\"sr-only\" data-v-16813d6e=\"\" data-v-bba230c1=\"\">정확하지 않음</span></label><label class=\"star__label\" data-star=\"3\" data-v-16813d6e=\"\" data-v-bba230c1=\"\" tabindex=\"-1\"><input data-v-16813d6e=\"\" data-v-bba230c1=\"\" tabindex=\"-1\" type=\"radio\" value=\"3\"/> <span class=\"sp-icon icon--lg icon--star\" data-v-16813d6e=\"\" data-v-bba230c1=\"\"><svg aria-labelledby=\"i_kogxpx3agb\" role=\"img\" viewbox=\"0 0 48 48\" xmlns=\"http://www.w3.org/2000/svg\"><title id=\"i_kogxpx3agb\">테스트 결과가 얼마나 정확한가요?</title> <g class=\"inputstar__g\" filter=\"url(#inner-shadow)\"><path d=\"M21.345 2.676 15.508 14.51 2.45 16.414c-2.341996.34-3.279996 3.227-1.581996 4.88L10.316 30.501 8.08 43.506c-.402 2.351 2.074 4.112 4.148 3.013l11.682-6.141 11.683 6.14c2.074 1.091 4.55-.66 4.147-3.012l-2.234-13.005 9.448-9.207c1.698-1.653.76-4.54-1.582-4.88l-13.06-1.904-5.836-11.834c-1.046-2.11-4.076-2.137-5.131 0Z\" fill=\"#fff\"></path></g> <path class=\"inputstar__stroke\" d=\"m15.5801 15.0048.2601-.0379.1162-.2357 5.8369-11.83386c.8689-1.76004 3.3693-1.74393 4.2345.00018 0 .00018.0001.00037.0002.00056l5.8356 11.83302.1162.2358.2601.0379 13.06 1.904h.0003c1.9314.2804 2.7061 2.663 1.305 4.0269l-.0002.0002-9.448 9.207-.1883.1836.0445.2591 2.234 13.0048v.0003c.3317 1.9365-1.7081 3.3861-3.4214 2.4848l-.0002-.0001-11.683-6.14-.2326-.1223-.2326.1223-11.6821 6.141-.0014.0008c-1.7099.906-3.7526-.5479-3.42105-2.4869l2.23595-13.0046.0445-.2592-.1883-.1836-9.44804-9.207-.00018-.0002c-1.401108-1.3639-.626396-3.7465 1.30506-4.0269h.00031l13.05795-1.904Z\" fill=\"none\" stroke=\"#BBBFC6\"></path> <defs><filter color-interpolation-filters=\"sRGB\" filterunits=\"userSpaceOnUse\" height=\"45.7707\" id=\"inner-shadow\" width=\"47.82\" x=\".00100708\" y=\"1.08336\"><feflood flood-opacity=\"0\" result=\"BackgroundImageFix\"></feflood> <feblend in=\"SourceGraphic\" in2=\"BackgroundImageFix\" result=\"shape\"></feblend> <fecolormatrix in=\"SourceAlpha\" result=\"hardAlpha\" values=\"0 0 0 0 0 0 0 0 0 0 0 0 0 0 0 0 0 0 127 0\"></fecolormatrix> <feoffset dy=\"2\"></feoffset> <fecomposite in2=\"hardAlpha\" k2=\"-1\" k3=\"1\" operator=\"arithmetic\"></fecomposite> <fecolormatrix values=\"0 0 0 0 0.317647 0 0 0 0 0.34902 0 0 0 0 0.415686 0 0 0 0.05 0\"></fecolormatrix> <feblend in2=\"shape\" result=\"effect1_innerShadow_123_231\"></feblend></filter></defs></svg></span> <span class=\"sr-only\" data-v-16813d6e=\"\" data-v-bba230c1=\"\">약간 정확함</span></label><label class=\"star__label\" data-star=\"4\" data-v-16813d6e=\"\" data-v-bba230c1=\"\" tabindex=\"-1\"><input data-v-16813d6e=\"\" data-v-bba230c1=\"\" tabindex=\"-1\" type=\"radio\" value=\"4\"/> <span class=\"sp-icon icon--lg icon--star\" data-v-16813d6e=\"\" data-v-bba230c1=\"\"><svg aria-labelledby=\"i_scauddbf0q\" role=\"img\" viewbox=\"0 0 48 48\" xmlns=\"http://www.w3.org/2000/svg\"><title id=\"i_scauddbf0q\">테스트 결과가 얼마나 정확한가요?</title> <g class=\"inputstar__g\" filter=\"url(#inner-shadow)\"><path d=\"M21.345 2.676 15.508 14.51 2.45 16.414c-2.341996.34-3.279996 3.227-1.581996 4.88L10.316 30.501 8.08 43.506c-.402 2.351 2.074 4.112 4.148 3.013l11.682-6.141 11.683 6.14c2.074 1.091 4.55-.66 4.147-3.012l-2.234-13.005 9.448-9.207c1.698-1.653.76-4.54-1.582-4.88l-13.06-1.904-5.836-11.834c-1.046-2.11-4.076-2.137-5.131 0Z\" fill=\"#fff\"></path></g> <path class=\"inputstar__stroke\" d=\"m15.5801 15.0048.2601-.0379.1162-.2357 5.8369-11.83386c.8689-1.76004 3.3693-1.74393 4.2345.00018 0 .00018.0001.00037.0002.00056l5.8356 11.83302.1162.2358.2601.0379 13.06 1.904h.0003c1.9314.2804 2.7061 2.663 1.305 4.0269l-.0002.0002-9.448 9.207-.1883.1836.0445.2591 2.234 13.0048v.0003c.3317 1.9365-1.7081 3.3861-3.4214 2.4848l-.0002-.0001-11.683-6.14-.2326-.1223-.2326.1223-11.6821 6.141-.0014.0008c-1.7099.906-3.7526-.5479-3.42105-2.4869l2.23595-13.0046.0445-.2592-.1883-.1836-9.44804-9.207-.00018-.0002c-1.401108-1.3639-.626396-3.7465 1.30506-4.0269h.00031l13.05795-1.904Z\" fill=\"none\" stroke=\"#BBBFC6\"></path> <defs><filter color-interpolation-filters=\"sRGB\" filterunits=\"userSpaceOnUse\" height=\"45.7707\" id=\"inner-shadow\" width=\"47.82\" x=\".00100708\" y=\"1.08336\"><feflood flood-opacity=\"0\" result=\"BackgroundImageFix\"></feflood> <feblend in=\"SourceGraphic\" in2=\"BackgroundImageFix\" result=\"shape\"></feblend> <fecolormatrix in=\"SourceAlpha\" result=\"hardAlpha\" values=\"0 0 0 0 0 0 0 0 0 0 0 0 0 0 0 0 0 0 127 0\"></fecolormatrix> <feoffset dy=\"2\"></feoffset> <fecomposite in2=\"hardAlpha\" k2=\"-1\" k3=\"1\" operator=\"arithmetic\"></fecomposite> <fecolormatrix values=\"0 0 0 0 0.317647 0 0 0 0 0.34902 0 0 0 0 0.415686 0 0 0 0.05 0\"></fecolormatrix> <feblend in2=\"shape\" result=\"effect1_innerShadow_123_231\"></feblend></filter></defs></svg></span> <span class=\"sr-only\" data-v-16813d6e=\"\" data-v-bba230c1=\"\">정확함</span></label><label class=\"star__label\" data-star=\"5\" data-v-16813d6e=\"\" data-v-bba230c1=\"\" tabindex=\"-1\"><input data-v-16813d6e=\"\" data-v-bba230c1=\"\" tabindex=\"-1\" type=\"radio\" value=\"5\"/> <span class=\"sp-icon icon--lg icon--star\" data-v-16813d6e=\"\" data-v-bba230c1=\"\"><svg aria-labelledby=\"i_zqoatx5y2i\" role=\"img\" viewbox=\"0 0 48 48\" xmlns=\"http://www.w3.org/2000/svg\"><title id=\"i_zqoatx5y2i\">테스트 결과가 얼마나 정확한가요?</title> <g class=\"inputstar__g\" filter=\"url(#inner-shadow)\"><path d=\"M21.345 2.676 15.508 14.51 2.45 16.414c-2.341996.34-3.279996 3.227-1.581996 4.88L10.316 30.501 8.08 43.506c-.402 2.351 2.074 4.112 4.148 3.013l11.682-6.141 11.683 6.14c2.074 1.091 4.55-.66 4.147-3.012l-2.234-13.005 9.448-9.207c1.698-1.653.76-4.54-1.582-4.88l-13.06-1.904-5.836-11.834c-1.046-2.11-4.076-2.137-5.131 0Z\" fill=\"#fff\"></path></g> <path class=\"inputstar__stroke\" d=\"m15.5801 15.0048.2601-.0379.1162-.2357 5.8369-11.83386c.8689-1.76004 3.3693-1.74393 4.2345.00018 0 .00018.0001.00037.0002.00056l5.8356 11.83302.1162.2358.2601.0379 13.06 1.904h.0003c1.9314.2804 2.7061 2.663 1.305 4.0269l-.0002.0002-9.448 9.207-.1883.1836.0445.2591 2.234 13.0048v.0003c.3317 1.9365-1.7081 3.3861-3.4214 2.4848l-.0002-.0001-11.683-6.14-.2326-.1223-.2326.1223-11.6821 6.141-.0014.0008c-1.7099.906-3.7526-.5479-3.42105-2.4869l2.23595-13.0046.0445-.2592-.1883-.1836-9.44804-9.207-.00018-.0002c-1.401108-1.3639-.626396-3.7465 1.30506-4.0269h.00031l13.05795-1.904Z\" fill=\"none\" stroke=\"#BBBFC6\"></path> <defs><filter color-interpolation-filters=\"sRGB\" filterunits=\"userSpaceOnUse\" height=\"45.7707\" id=\"inner-shadow\" width=\"47.82\" x=\".00100708\" y=\"1.08336\"><feflood flood-opacity=\"0\" result=\"BackgroundImageFix\"></feflood> <feblend in=\"SourceGraphic\" in2=\"BackgroundImageFix\" result=\"shape\"></feblend> <fecolormatrix in=\"SourceAlpha\" result=\"hardAlpha\" values=\"0 0 0 0 0 0 0 0 0 0 0 0 0 0 0 0 0 0 127 0\"></fecolormatrix> <feoffset dy=\"2\"></feoffset> <fecomposite in2=\"hardAlpha\" k2=\"-1\" k3=\"1\" operator=\"arithmetic\"></fecomposite> <fecolormatrix values=\"0 0 0 0 0.317647 0 0 0 0 0.34902 0 0 0 0 0.415686 0 0 0 0.05 0\"></fecolormatrix> <feblend in2=\"shape\" result=\"effect1_innerShadow_123_231\"></feblend></filter></defs></svg></span> <span class=\"sr-only\" data-v-16813d6e=\"\" data-v-bba230c1=\"\">매우 정확함</span></label> <!-- --></div> <!-- --></fieldset></div> <!-- --></div> <div class=\"cta\" data-chunk=\"international-chunk\" data-v-0471921e=\"\"><div class=\"sp-cardgetebook\" data-v-0471921e=\"\"><div class=\"col--left\" data-v-0471921e=\"\"><h2 class=\"h3\" data-v-0471921e=\"\">자세히 알아보고 싶으신가요?</h2> <p class=\"card__p\" data-v-0471921e=\"\">전체 집정관 성격 프로필을 다운로드하고 다음에 대해 자세히 알아보세요.</p> <ul data-v-0471921e=\"\"><li data-v-0471921e=\"\">자신만의 강점과 약점</li> <li data-v-0471921e=\"\">연인 관계</li> <li data-v-0471921e=\"\">친구 관계</li> <li data-v-0471921e=\"\">육아 스타일</li> <li data-v-0471921e=\"\">커리어</li> <li data-v-0471921e=\"\">업무 성향</li></ul></div> <div class=\"sp-card xcard--stars card--center card--blue has--shadow has--color has--lightheader has__line--top\" data-chunk=\"international-chunk\" data-v-0471921e=\"\"><div class=\"card__inner\"><hr aria-hidden=\"true\" class=\"card__line\"/> <!-- --> <div class=\"card__body\"><!-- --> <div class=\"card__text\"><!-- --> <!-- --> <h3 class=\"card__title\">집정관 성격 프로필</h3> <img alt=\"집정관 성격 프로필\" class=\"card__icon\" src=\"https://www.16personalities.com/static/images/premium/localized/personality-profiles/ko/consul.svg?v=2\"/> <h4 class=\"card__subtitle\"><span class=\"symbol--before price__symbol\">₩</span>5,999\n",
       "                                    </h4> <p class=\"card__p\">12페이지 분량의 인사이트와 조언이 포함되어 있습니다. PDF 파일은 즉시 다운로드할 수 있으며.</p> <button class=\"sp-action sp-button button--action button--blue button--md button--pill button--full button--icon-rt\" data-chunk=\"checkout-external-chunk\" type=\"button\"><!-- --><span class=\"button__text\">다운로드</span><span aria-hidden=\"true\" class=\"sp-icon size--inherit color--inherit icon--rotatable icon--dir-rt icon--arrow button__icon--rt\" data-v-72ca41a0=\"\"><svg aria-labelledby=\"i_tbcaqhia85\" role=\"img\" viewbox=\"0 0 48 48\" xmlns=\"http://www.w3.org/2000/svg\"><title id=\"i_tbcaqhia85\">Go</title> <path d=\"M23.446875,3.571875 L21.590625,5.428125 C21.15,5.86875 21.15,6.58125 21.590625,7.021875 L36.13125,21.5625 L4.125,21.5625 C3.50625,21.5625 3,22.06875 3,22.6875 L3,25.3125 C3,25.93125 3.50625,26.4375 4.125,26.4375 L36.13125,26.4375 L21.590625,40.978125 C21.15,41.41875 21.15,42.13125 21.590625,42.571875 L23.446875,44.428125 C23.8875,44.86875 24.6,44.86875 25.040625,44.428125 L44.671875,24.796875 C45.1125,24.35625 45.1125,23.64375 44.671875,23.203125 L25.040625,3.571875 C24.6,3.13125 23.8875,3.13125 23.446875,3.571875 Z\" data-v-72ca41a0=\"\"></path></svg></span><!-- --></button> <div class=\"card__bg\"><svg class=\"angular-380-disconnected-1\" data-v-be443d49=\"\" height=\"20\" preserveaspectratio=\"none\" viewbox=\"0 0 380 20\" width=\"380\" xmlns=\"http://www.w3.org/2000/svg\"><path d=\"M380 0v13.75L310 5 90 20 0 0z\" data-v-be443d49=\"\" fill=\"#88619A\" fill-rule=\"evenodd\"></path></svg></div></div> <!-- --></div> <!-- --></div></div> <div class=\"row--guarantee\" data-v-0471921e=\"\"><img alt=\"Icon: 제품에 문제가 있는 경우 30일 안에 이메일을 보내 주세요. 제품을 환불해 드리겠습니다.\" class=\"guarantee__icon guarantee__icon--ko\" data-v-0471921e=\"\" height=\"22\" src=\"https://www.16personalities.com/static/animations/sales/money-back-guarantee.svg\" width=\"22\"/>제품에 문제가 있는 경우 30일 안에 이메일을 보내 주세요. 제품을 환불해 드리겠습니다.\n",
       "                                </div></div> <button class=\"link__set sp-action sp-link link--md link--icon-rt\" data-chunk=\"checkout-external-chunk\" type=\"button\"><!-- --><span class=\"link__text\">모든 성격 프로필</span><span aria-hidden=\"true\" class=\"sp-icon size--inherit color--inherit icon--rotatable icon--dir-rt icon--arrow link__icon--rt\" data-v-72ca41a0=\"\"><svg aria-labelledby=\"i_uqkaou7j71\" role=\"img\" viewbox=\"0 0 48 48\" xmlns=\"http://www.w3.org/2000/svg\"><title id=\"i_uqkaou7j71\">Go</title> <path d=\"M23.446875,3.571875 L21.590625,5.428125 C21.15,5.86875 21.15,6.58125 21.590625,7.021875 L36.13125,21.5625 L4.125,21.5625 C3.50625,21.5625 3,22.06875 3,22.6875 L3,25.3125 C3,25.93125 3.50625,26.4375 4.125,26.4375 L36.13125,26.4375 L21.590625,40.978125 C21.15,41.41875 21.15,42.13125 21.590625,42.571875 L23.446875,44.428125 C23.8875,44.86875 24.6,44.86875 25.040625,44.428125 L44.671875,24.796875 C45.1125,24.35625 45.1125,23.64375 44.671875,23.203125 L25.040625,3.571875 C24.6,3.13125 23.8875,3.13125 23.446875,3.571875 Z\" data-v-72ca41a0=\"\"></path></svg></span><!-- --></button></div></article></div> <div class=\"celebrities\"><h2>집정관형 인물</h2> <section aria-label=\"Famous people who are ESFJ\" aria-roledescription=\"carousel\" class=\"celebrities-wrapper\" data-chunk=\"type-chunk\" role=\"region\"><button aria-controls=\"carousel_tduj7zrwb4\" aria-label=\"Previous\" class=\"carousel-nav carousel-nav-left previous\" disabled=\"disabled\" type=\"button\"><span aria-hidden=\"true\" class=\"fal fa-angle-left\"></span></button> <div aria-live=\"off\" class=\"carousel-wrapper\" id=\"carousel_tduj7zrwb4\" style=\"overflow: hidden; direction: ltr; cursor: -webkit-grab;\"><div style=\"width: 3316px; display: flex; transition: all 200ms ease-out 0s; transform: translate3d(0px, 0px, 0px); max-height: 261px;\"><div><div aria-label=\"0 of 16\" aria-roledescription=\"slide\" class=\"celebrity\" role=\"group\" style=\"width: 207.25px;\"><div class=\"avatar\"><img alt=\"16Personalities avatar for Taylor Swift\" loading=\"lazy\" src=\"https://www.16personalities.com/static/images/personality-types/famous/sentinels_ESFJ_taylor_swift.svg?v=6\"/></div> <div class=\"name\">\n",
       "        Taylor Swift\n",
       "      </div> <!-- --> <!-- --></div></div><div><div aria-label=\"1 of 16\" aria-roledescription=\"slide\" class=\"celebrity scatter\" role=\"group\" style=\"width: 207.25px;\"><div class=\"avatar\"><img alt=\"16Personalities avatar for Jennifer Garner\" loading=\"lazy\" src=\"https://www.16personalities.com/static/images/personality-types/famous/sentinels_ESFJ_jennifer_garner.svg?v=6\"/></div> <div class=\"name\">\n",
       "        Jennifer Garner\n",
       "      </div> <!-- --> <!-- --></div></div><div><div aria-label=\"2 of 16\" aria-roledescription=\"slide\" class=\"celebrity\" role=\"group\" style=\"width: 207.25px;\"><div class=\"avatar\"><img alt=\"16Personalities avatar for Bill Clinton\" loading=\"lazy\" src=\"https://www.16personalities.com/static/images/personality-types/famous/sentinels_ESFJ_bill_clinton.svg?v=6\"/></div> <div class=\"name\">\n",
       "        Bill Clinton\n",
       "      </div> <!-- --> <!-- --></div></div><div><div aria-label=\"3 of 16\" aria-roledescription=\"slide\" class=\"celebrity scatter\" role=\"group\" style=\"width: 207.25px;\"><div class=\"avatar\"><img alt=\"16Personalities avatar for Steve Harvey\" loading=\"lazy\" src=\"https://www.16personalities.com/static/images/personality-types/famous/sentinels_ESFJ_steve_harvey.svg?v=6\"/></div> <div class=\"name\">\n",
       "        Steve Harvey\n",
       "      </div> <!-- --> <!-- --></div></div><div><div aria-label=\"4 of 16\" aria-roledescription=\"slide\" class=\"celebrity\" role=\"group\" style=\"width: 207.25px;\"><div class=\"avatar\"><img alt=\"16Personalities avatar for Danny Glover\" loading=\"lazy\" src=\"https://www.16personalities.com/static/images/personality-types/famous/sentinels_ESFJ_danny_glover.svg?v=6\"/></div> <div class=\"name\">\n",
       "        Danny Glover\n",
       "      </div> <!-- --> <!-- --></div></div><div><div aria-label=\"5 of 16\" aria-roledescription=\"slide\" class=\"celebrity scatter\" role=\"group\" style=\"width: 207.25px;\"><div class=\"avatar\"><img alt=\"16Personalities avatar for Jennifer Lopez\" loading=\"lazy\" src=\"https://www.16personalities.com/static/images/personality-types/famous/sentinels_ESFJ_jennifer_lopez.svg?v=6\"/></div> <div class=\"name\">\n",
       "        Jennifer Lopez\n",
       "      </div> <!-- --> <!-- --></div></div><div><div aria-label=\"6 of 16\" aria-roledescription=\"slide\" class=\"celebrity\" role=\"group\" style=\"width: 207.25px;\"><div class=\"avatar\"><img alt=\"16Personalities avatar for Sally Field\" loading=\"lazy\" src=\"https://www.16personalities.com/static/images/personality-types/famous/sentinels_ESFJ_sally_field.svg?v=6\"/></div> <div class=\"name\">\n",
       "        Sally Field\n",
       "      </div> <!-- --> <!-- --></div></div><div><div aria-label=\"7 of 16\" aria-roledescription=\"slide\" class=\"celebrity scatter\" role=\"group\" style=\"width: 207.25px;\"><div class=\"avatar\"><img alt=\"16Personalities avatar for Tyra Banks\" loading=\"lazy\" src=\"https://www.16personalities.com/static/images/personality-types/famous/sentinels_ESFJ_tyra_banks.svg?v=6\"/></div> <div class=\"name\">\n",
       "        Tyra Banks\n",
       "      </div> <!-- --> <!-- --></div></div><div><div aria-label=\"8 of 16\" aria-roledescription=\"slide\" class=\"celebrity\" role=\"group\" style=\"width: 207.25px;\"><div class=\"avatar\"><img alt=\"16Personalities avatar for Sansa Stark\" loading=\"lazy\" src=\"https://www.16personalities.com/static/images/personality-types/famous/sentinels_ESFJ_sansa_stark_game_of_thrones.svg?v=6\"/></div> <div class=\"name\">\n",
       "        Sansa Stark\n",
       "      </div> <div class=\"movie\">\n",
       "        Game of Thrones\n",
       "      </div> <!-- --></div></div><div><div aria-label=\"9 of 16\" aria-roledescription=\"slide\" class=\"celebrity scatter\" role=\"group\" style=\"width: 207.25px;\"><div class=\"avatar\"><img alt=\"16Personalities avatar for Dean Winchester\" loading=\"lazy\" src=\"https://www.16personalities.com/static/images/personality-types/famous/sentinels_ESFJ_dean_winchester_supernatural.svg?v=6\"/></div> <div class=\"name\">\n",
       "        Dean Winchester\n",
       "      </div> <div class=\"movie\">\n",
       "        Supernatural\n",
       "      </div> <!-- --></div></div><div><div aria-label=\"10 of 16\" aria-roledescription=\"slide\" class=\"celebrity\" role=\"group\" style=\"width: 207.25px;\"><div class=\"avatar\"><img alt=\"16Personalities avatar for Jack Shephard\" loading=\"lazy\" src=\"https://www.16personalities.com/static/images/personality-types/famous/sentinels_ESFJ_jack_shephard_lost.svg?v=6\"/></div> <div class=\"name\">\n",
       "        Jack Shephard\n",
       "      </div> <div class=\"movie\">\n",
       "        Lost\n",
       "      </div> <!-- --></div></div><div><div aria-label=\"11 of 16\" aria-roledescription=\"slide\" class=\"celebrity scatter\" role=\"group\" style=\"width: 207.25px;\"><div class=\"avatar\"><img alt=\"16Personalities avatar for Cersei Lannister\" loading=\"lazy\" src=\"https://www.16personalities.com/static/images/personality-types/famous/sentinels_ESFJ_cersei_lannister_game_of_thrones.svg?v=6\"/></div> <div class=\"name\">\n",
       "        Cersei Lannister\n",
       "      </div> <div class=\"movie\">\n",
       "        Game of Thrones\n",
       "      </div> <!-- --></div></div><div><div aria-label=\"12 of 16\" aria-roledescription=\"slide\" class=\"celebrity\" role=\"group\" style=\"width: 207.25px;\"><div class=\"avatar\"><img alt=\"16Personalities avatar for Carmela Soprano\" loading=\"lazy\" src=\"https://www.16personalities.com/static/images/personality-types/famous/sentinels_ESFJ_carmela_soprano_the_sopranos.svg?v=6\"/></div> <div class=\"name\">\n",
       "        Carmela Soprano\n",
       "      </div> <div class=\"movie\">\n",
       "        The Sopranos\n",
       "      </div> <!-- --></div></div><div><div aria-label=\"13 of 16\" aria-roledescription=\"slide\" class=\"celebrity scatter\" role=\"group\" style=\"width: 207.25px;\"><div class=\"avatar\"><img alt=\"16Personalities avatar for Monica\" loading=\"lazy\" src=\"https://www.16personalities.com/static/images/personality-types/famous/sentinels_ESFJ_monica_friends.svg?v=6\"/></div> <div class=\"name\">\n",
       "        Monica\n",
       "      </div> <div class=\"movie\">\n",
       "        Friends\n",
       "      </div> <!-- --></div></div><div><div aria-label=\"14 of 16\" aria-roledescription=\"slide\" class=\"celebrity\" role=\"group\" style=\"width: 207.25px;\"><div class=\"avatar\"><img alt=\"16Personalities avatar for Mrs. Hudson\" loading=\"lazy\" src=\"https://www.16personalities.com/static/images/personality-types/famous/sentinels_ESFJ_mrs_hudson_sherlock_holmes.svg?v=6\"/></div> <div class=\"name\">\n",
       "        Mrs. Hudson\n",
       "      </div> <div class=\"movie\">\n",
       "        Sherlock Holmes series\n",
       "      </div> <!-- --></div></div><div><div aria-label=\"15 of 16\" aria-roledescription=\"slide\" class=\"celebrity scatter\" role=\"group\" style=\"width: 207.25px;\"><div class=\"avatar\"><img alt=\"16Personalities avatar for Larry Bloom\" loading=\"lazy\" src=\"https://www.16personalities.com/static/images/personality-types/famous/sentinels_ESFJ_larry_bloom_orange_is_the_new_black.svg?v=6\"/></div> <div class=\"name\">\n",
       "        Larry Bloom\n",
       "      </div> <div class=\"movie\">\n",
       "        Orange Is the New Black\n",
       "      </div> <!-- --></div></div></div></div> <button aria-controls=\"carousel_tduj7zrwb4\" aria-label=\"Next\" class=\"carousel-nav carousel-nav-right next shown\" type=\"button\"><span aria-hidden=\"true\" class=\"fal fa-angle-right\"></span></button></section></div> <div class=\"social-cta comp\" data-chunk=\"social-chunk\"><div class=\"wrapper\"><div class=\"social-count\"><div class=\"number\">163558</div></div> <div class=\"social-icons\"><button class=\"sp-action button--inherit button--unstyled icon facebook\" data-v-edd059cb=\"\" rel=\"noreferrer\" title=\"Share this on Facebook\" type=\"button\"><!-- --><span class=\"fab fa-facebook-f\" data-v-edd059cb=\"\"></span><!-- --><!-- --></button> <a class=\"sp-action button--inherit button--unstyled icon twitter\" data-v-bff91c9e=\"\" href=\"https://twitter.com/intent/tweet?url=https%3A%2F%2Fwww.16personalities.com%2Fko%2F%25EC%2584%25B1%25EA%25B2%25A9%25EC%259C%25A0%25ED%2598%2595-esfj&amp;text=%EC%84%B1%EA%B2%A9+%EC%9C%A0%ED%98%95%3A+%E2%80%9C%EC%A7%91%EC%A0%95%EA%B4%80%E2%80%9D&amp;via=16Personalities&amp;hashtags=16Personalities\" rel=\"noreferrer\" target=\"_blank\" title=\"Tweet this\"><!-- --><span class=\"fab fa-twitter\" data-v-bff91c9e=\"\"></span><!-- --><!-- --></a> <a class=\"sp-action button--inherit button--unstyled icon pinterest\" data-v-3bbc62e9=\"\" href=\"http://pinterest.com/pin/create/link/?description=%EC%84%B1%EA%B2%A9+%EC%9C%A0%ED%98%95%3A+%E2%80%9C%EC%A7%91%EC%A0%95%EA%B4%80%E2%80%9D&amp;url=https%3A%2F%2Fwww.16personalities.com%2Fko%2F%25EC%2584%25B1%25EA%25B2%25A9%25EC%259C%25A0%25ED%2598%2595-esfj&amp;media=https%3A%2F%2Fwww.16personalities.com%2Fstatic%2Fimages%2Fsocial%2Fesfj.png\" rel=\"noreferrer\" target=\"_blank\" title=\"Pin this\"><!-- --><span class=\"fab fa-pinterest-p\" data-v-3bbc62e9=\"\"></span><!-- --><!-- --></a> <a class=\"sp-action button--inherit button--unstyled icon whatsapp\" data-v-c149fd3b=\"\" href=\"whatsapp://send?text=%EC%84%B1%EA%B2%A9%20%EC%9C%A0%ED%98%95%3A%20%E2%80%9C%EC%A7%91%EC%A0%95%EA%B4%80%E2%80%9D%3A%20https%3A%2F%2Fwww.16personalities.com%2Fko%2F%25EC%2584%25B1%25EA%25B2%25A9%25EC%259C%25A0%25ED%2598%2595-esfj\" rel=\"noreferrer\" target=\"_blank\" title=\"WhatsApp\"><!-- --><span class=\"fab fa-whatsapp\" data-v-c149fd3b=\"\"></span><!-- --><!-- --></a> <a class=\"sp-action button--inherit button--unstyled icon messenger\" data-v-fc9d9399=\"\" href=\"fb-messenger://share?link=https%3A%2F%2Fwww.16personalities.com%2Fko%2F%25EC%2584%25B1%25EA%25B2%25A9%25EC%259C%25A0%25ED%2598%2595-esfj&amp;app_id=326516237427150\" rel=\"noreferrer\" target=\"_blank\" title=\"Messenger\"><!-- --><span class=\"fab fa-facebook-messenger\" data-v-fc9d9399=\"\"></span><!-- --><!-- --></a> <a class=\"sp-action button--inherit button--unstyled icon email\" data-v-ca4e4abf=\"\" href=\"mailto:?subject=&amp;body=https%3A%2F%2Fwww.16personalities.com%2Fko%2F%25EC%2584%25B1%25EA%25B2%25A9%25EC%259C%25A0%25ED%2598%2595-esfj\" rel=\"noreferrer\" target=\"_blank\" title=\"E-mail this\"><!-- --><span class=\"fal fa-envelope\" data-v-ca4e4abf=\"\"></span><!-- --><!-- --></a></div></div></div></main> <div class=\"social-popup\" data-v-9302559d=\"\"><a class=\"twitter\" data-v-9302559d=\"\" href=\"https://twitter.com/intent/tweet?text=“”&amp;url=https://www.16personalities.com/ko/%EC%84%B1%EA%B2%A9%EC%9C%A0%ED%98%95-esfj&amp;via=16Personalities&amp;hashtags=16Personalities\" target=\"_blank\"><span class=\"sp-icon icon--md icon--white socialtwitter icon--social\" data-v-9302559d=\"\"><svg aria-labelledby=\"i_k6r1s72h5o\" role=\"img\" viewbox=\"0 0 48 48\" xmlns=\"http://www.w3.org/2000/svg\"><title id=\"i_k6r1s72h5o\">Twitter</title> <path d=\"M43.0659375,14.223375 C43.0964062,14.64975 43.0964062,15.0762187 43.0964062,15.5025937 C43.0964062,28.5075937 33.198,43.4924062 15.1065937,43.4924062 C9.53296875,43.4924062 4.35534375,41.878125 0,39.0762187 C0.79190625,39.1675312 1.55325,39.198 2.375625,39.198 C6.97453125,39.198 11.2080937,37.64475 14.5888125,34.995 C10.2639375,34.9035937 6.6395625,32.071125 5.3908125,28.172625 C6,28.2639375 6.60909375,28.324875 7.24875,28.324875 C8.13196875,28.324875 9.01528125,28.203 9.8375625,27.9899062 C5.32996875,27.076125 1.94915625,23.1167812 1.94915625,18.3350625 L1.94915625,18.2132812 C3.25875,18.94425 4.78171875,19.4010937 6.3958125,19.4619375 C3.7460625,17.6954062 2.01009375,14.6802187 2.01009375,11.2690312 C2.01009375,9.44165625 2.4973125,7.76653125 3.35015625,6.30459375 C8.1928125,12.274125 15.4720313,16.1725312 23.634375,16.599 C23.482125,15.8680312 23.3907188,15.1066875 23.3907188,14.34525 C23.3907188,8.923875 27.7765312,4.5076875 33.2282813,4.5076875 C36.06075,4.5076875 38.6190937,5.6955 40.4160938,7.61428125 C42.639375,7.18790625 44.7713438,6.36553125 46.65975,5.23865625 C45.9286875,7.52296875 44.3754375,9.44175 42.334875,10.6599375 C44.3145938,10.4468437 46.233375,9.8985 47.9998125,9.13715625 C46.6599375,11.0863125 44.9847187,12.8222812 43.0659375,14.223375 Z\"></path></svg></span></a> <a class=\"email\" data-v-9302559d=\"\" href=\"mailto:?body=“”%0D%0A%0D%0Ahttps://www.16personalities.com/ko/%EC%84%B1%EA%B2%A9%EC%9C%A0%ED%98%95-esfj\"><span class=\"sp-icon icon--md icon--white icon--envelope\" data-v-9302559d=\"\"><svg aria-labelledby=\"i_qrn0pilxk0\" role=\"img\" viewbox=\"0 0 48 48\" xmlns=\"http://www.w3.org/2000/svg\"><title id=\"i_qrn0pilxk0\">Email</title> <path d=\"M43.5,6 L4.5,6 C2.015625,6 0,8.015625 0,10.5 L0,37.5 C0,39.984375 2.015625,42 4.5,42 L43.5,42 C45.984375,42 48,39.984375 48,37.5 L48,10.5 C48,8.015625 45.984375,6 43.5,6 Z M4.5,9 L43.5,9 C44.325,9 45,9.675 45,10.5 L45,14.38125 C42.946875,16.115625 40.0125,18.50625 30.88125,25.753125 C29.296875,27.009375 26.175,30.0375 24,30 C21.825,30.0375 18.69375,27.009375 17.11875,25.753125 C7.9875,18.50625 5.053125,16.115625 3,14.38125 L3,10.5 C3,9.675 3.675,9 4.5,9 Z M43.5,39 L4.5,39 C3.675,39 3,38.325 3,37.5 L3,18.28125 C5.1375,20.034375 8.5125,22.74375 15.253125,28.096875 C17.175,29.634375 20.56875,33.01875 24,33 C27.4125,33.028125 30.778125,29.671875 32.746875,28.096875 C39.4875,22.74375 42.8625,20.034375 45,18.28125 L45,37.5 C45,38.325 44.325,39 43.5,39 Z\"></path></svg></span></a></div> <div class=\"modal__container\"><!-- --> <!-- --> <!-- --> <div data-chunk=\"guest-chunk\" personality-nice=\"Consul\"><!-- --> <!-- --> <!-- --> <!-- --></div> <!-- --> <!-- --> <div id=\"portal--modal\"><div class=\"modal__grandparent\" data-v-ced0443f=\"\"><!-- --> <!-- --></div><div class=\"modal__grandparent\" data-v-ced0443f=\"\"><!-- --> <!-- --></div><div class=\"modal__grandparent\" data-v-ced0443f=\"\"><!-- --> <!-- --></div><div class=\"modal__grandparent\" data-v-c23b8138=\"\" data-v-ced0443f=\"\"><!-- --> <!-- --></div><div class=\"modal__grandparent\" data-v-ced0443f=\"\"><!-- --> <!-- --></div><div class=\"modal__grandparent\" data-v-ced0443f=\"\"><!-- --> <!-- --></div><div class=\"modal__grandparent\" data-v-98f3ca5d=\"\" data-v-ced0443f=\"\"><!-- --> <!-- --></div><div class=\"modal__grandparent\" data-v-ccd37b6f=\"\" data-v-ced0443f=\"\"><!-- --> <!-- --></div><div class=\"modal__grandparent\" data-v-569b5c2d=\"\" data-v-a80cd230=\"\" data-v-ced0443f=\"\"><!-- --> <!-- --></div></div> <div id=\"portal--modalbg\"><div class=\"modal__bg is--hidden\" data-v-e656142a=\"\" style=\"display: none;\"></div><div class=\"modal__bg is--hidden\" data-v-e656142a=\"\" style=\"display: none;\"></div><div class=\"modal__bg is--hidden\" data-v-e656142a=\"\" style=\"display: none;\"></div><div class=\"modal__bg is--hidden\" data-v-e656142a=\"\" style=\"display: none;\"></div><div class=\"modal__bg is--hidden\" data-v-e656142a=\"\" style=\"display: none;\"></div><div class=\"modal__bg is--hidden\" data-v-e656142a=\"\" style=\"display: none;\"></div><div class=\"modal__bg is--hidden\" data-v-e656142a=\"\" style=\"display: none;\"></div><div class=\"modal__bg is--hidden\" data-v-e656142a=\"\" style=\"display: none;\"></div><div class=\"modal__bg is--hidden\" data-v-e656142a=\"\" style=\"display: none;\"></div></div></div> <div class=\"scrollbar-measure\"></div> <footer class=\"footer--vue international\" id=\"footer\"><div class=\"footer__copyright\">\n",
       "        ©2011-2023 NERIS Analytics Limited\n",
       "    </div> <nav class=\"footer__links\"><a class=\"link--inline\" href=\"https://www.16personalities.com/contact-us\">Contact</a> <a class=\"link--inline hide--checkout\" href=\"https://www.16personalities.com/orders/testimonials\">Testimonials</a> <a class=\"link--inline\" href=\"https://www.16personalities.com/terms\">Terms &amp; Conditions</a> <a class=\"link--inline last--checkout\" href=\"https://www.16personalities.com/terms/privacy\">Privacy Policy</a> <a class=\"link--inline hide--checkout\" href=\"https://www.16personalities.com/tools/teams\">For Teams</a> <a class=\"link--inline hide--checkout\" href=\"https://www.16personalities.com/join-us\">Join Us!</a></nav> <div class=\"footer__social\" data-v-c7e4e217=\"\"><a aria-label=\"Go to our Facebook page\" class=\"sp-action sp-button button--action button--white button--sm button--circle button--auto\" data-v-c7e4e217=\"\" href=\"https://www.facebook.com/16Personalities/\" rel=\"noreferrer\" target=\"_blank\"><!-- --><span class=\"sp-icon color--inherit icon--sm socialfacebook icon--social\" data-v-c7e4e217=\"\"><svg aria-labelledby=\"i_j74d6vhrew\" role=\"img\" viewbox=\"0 0 48 48\" xmlns=\"http://www.w3.org/2000/svg\"><title id=\"i_j74d6vhrew\">Facebook</title> <path d=\"M47.25 24C47.25 11.156 36.844.75 24 .75S.75 11.156.75 24c0 11.604 8.502 21.223 19.617 22.969V30.72h-5.906V24h5.906v-5.122c0-5.827 3.469-9.046 8.782-9.046 2.544 0 5.205.454 5.205.454v5.719H31.42c-2.887 0-3.788 1.793-3.788 3.63V24h6.448l-1.031 6.72h-5.417V46.97C38.748 45.223 47.25 35.604 47.25 24z\"></path></svg></span><!-- --><!-- --></a> <a aria-label=\"Go to our Instagram page\" class=\"button--has-gutter sp-action sp-button button--action button--white button--sm button--circle button--auto\" data-v-c7e4e217=\"\" href=\"https://www.instagram.com/16personalitiesofficial/\" rel=\"noreferrer\" target=\"_blank\"><!-- --><span class=\"sp-icon color--inherit icon--sm socialinstagram icon--social\" data-v-c7e4e217=\"\"><svg aria-labelledby=\"i_wjw4017x2c\" role=\"img\" viewbox=\"0 0 48 48\" xmlns=\"http://www.w3.org/2000/svg\"><title id=\"i_wjw4017x2c\">`Instagram`</title> <path d=\"M24.009375,13.21875 C18.046875,13.21875 13.2375,18.028125 13.2375,23.990625 C13.2375,29.953125 18.046875,34.7625 24.009375,34.7625 C29.971875,34.7625 34.78125,29.953125 34.78125,23.990625 C34.78125,18.028125 29.971875,13.21875 24.009375,13.21875 Z M24.009375,30.99375 C20.15625,30.99375 17.00625,27.853125 17.00625,23.990625 C17.00625,20.128125 20.146875,16.9875 24.009375,16.9875 C27.871875,16.9875 31.0125,20.128125 31.0125,23.990625 C31.0125,27.853125 27.8625,30.99375 24.009375,30.99375 L24.009375,30.99375 Z M37.734375,12.778125 C37.734375,14.175 36.609375,15.290625 35.221875,15.290625 C33.825,15.290625 32.709375,14.165625 32.709375,12.778125 C32.709375,11.390625 33.834375,10.265625 35.221875,10.265625 C36.609375,10.265625 37.734375,11.390625 37.734375,12.778125 Z M44.86875,15.328125 C44.709375,11.9625 43.940625,8.98125 41.475,6.525 C39.01875,4.06875 36.0375,3.3 32.671875,3.13125 C29.203125,2.934375 18.80625,2.934375 15.3375,3.13125 C11.98125,3.290625 9,4.059375 6.534375,6.515625 C4.06875,8.971875 3.309375,11.953125 3.140625,15.31875 C2.94375,18.7875 2.94375,29.184375 3.140625,32.653125 C3.3,36.01875 4.06875,39 6.534375,41.45625 C9,43.9125 11.971875,44.68125 15.3375,44.85 C18.80625,45.046875 29.203125,45.046875 32.671875,44.85 C36.0375,44.690625 39.01875,43.921875 41.475,41.45625 C43.93125,39 44.7,36.01875 44.86875,32.653125 C45.065625,29.184375 45.065625,18.796875 44.86875,15.328125 L44.86875,15.328125 Z M40.3875,36.375 C39.65625,38.2125 38.240625,39.628125 36.39375,40.36875 C33.628125,41.465625 27.065625,41.2125 24.009375,41.2125 C20.953125,41.2125 14.38125,41.45625 11.625,40.36875 C9.7875,39.6375 8.371875,38.221875 7.63125,36.375 C6.534375,33.609375 6.7875,27.046875 6.7875,23.990625 C6.7875,20.934375 6.54375,14.3625 7.63125,11.60625 C8.3625,9.76875 9.778125,8.353125 11.625,7.6125 C14.390625,6.515625 20.953125,6.76875 24.009375,6.76875 C27.065625,6.76875 33.6375,6.525 36.39375,7.6125 C38.23125,8.34375 39.646875,9.759375 40.3875,11.60625 C41.484375,14.371875 41.23125,20.934375 41.23125,23.990625 C41.23125,27.046875 41.484375,33.61875 40.3875,36.375 Z\"></path></svg></span><!-- --><!-- --></a> <a aria-label=\"Go to our Twitter page\" class=\"button--has-gutter sp-action sp-button button--action button--white button--sm button--circle button--auto\" data-v-c7e4e217=\"\" href=\"https://twitter.com/16Personalities\" rel=\"noreferrer\" target=\"_blank\"><!-- --><span class=\"sp-icon color--inherit icon--sm socialtwitter icon--social\" data-v-c7e4e217=\"\"><svg aria-labelledby=\"i_nr8rowewxb\" role=\"img\" viewbox=\"0 0 48 48\" xmlns=\"http://www.w3.org/2000/svg\"><title id=\"i_nr8rowewxb\">Twitter</title> <path d=\"M43.0659375,14.223375 C43.0964062,14.64975 43.0964062,15.0762187 43.0964062,15.5025937 C43.0964062,28.5075937 33.198,43.4924062 15.1065937,43.4924062 C9.53296875,43.4924062 4.35534375,41.878125 0,39.0762187 C0.79190625,39.1675312 1.55325,39.198 2.375625,39.198 C6.97453125,39.198 11.2080937,37.64475 14.5888125,34.995 C10.2639375,34.9035937 6.6395625,32.071125 5.3908125,28.172625 C6,28.2639375 6.60909375,28.324875 7.24875,28.324875 C8.13196875,28.324875 9.01528125,28.203 9.8375625,27.9899062 C5.32996875,27.076125 1.94915625,23.1167812 1.94915625,18.3350625 L1.94915625,18.2132812 C3.25875,18.94425 4.78171875,19.4010937 6.3958125,19.4619375 C3.7460625,17.6954062 2.01009375,14.6802187 2.01009375,11.2690312 C2.01009375,9.44165625 2.4973125,7.76653125 3.35015625,6.30459375 C8.1928125,12.274125 15.4720313,16.1725312 23.634375,16.599 C23.482125,15.8680312 23.3907188,15.1066875 23.3907188,14.34525 C23.3907188,8.923875 27.7765312,4.5076875 33.2282813,4.5076875 C36.06075,4.5076875 38.6190937,5.6955 40.4160938,7.61428125 C42.639375,7.18790625 44.7713438,6.36553125 46.65975,5.23865625 C45.9286875,7.52296875 44.3754375,9.44175 42.334875,10.6599375 C44.3145938,10.4468437 46.233375,9.8985 47.9998125,9.13715625 C46.6599375,11.0863125 44.9847187,12.8222812 43.0659375,14.223375 Z\"></path></svg></span><!-- --><!-- --></a></div></footer> <div class=\"svg-icons\"><svg id=\"spin-icon\" viewbox=\"0 0 512 512\" xmlns=\"http://www.w3.org/2000/svg\"><path d=\"M460.115 373.846l-6.941-4.008c-5.546-3.202-7.564-10.177-4.661-15.886 32.971-64.838 31.167-142.731-5.415-205.954-36.504-63.356-103.118-103.876-175.8-107.701C260.952 39.963 256 34.676 256 28.321v-8.012c0-6.904 5.808-12.337 12.703-11.982 83.552 4.306 160.157 50.861 202.106 123.67 42.069 72.703 44.083 162.322 6.034 236.838-3.14 6.149-10.75 8.462-16.728 5.011z\"></path></svg></div> <div class=\"push\"></div></div>\n",
       "<script async=\"\" src=\"https://www.16personalities.com/build/assets/app-6b0ed282.js\" type=\"module\"></script><script as=\"script\" rel=\"preload\" src=\"https://www.16personalities.com/build/assets/app-6b0ed282.js\" type=\"module\"></script>\n",
       "<script type=\"text/javascript\">setTimeout(function(){var s = document.createElement('link');s.rel='stylesheet';s.href='https://www.16personalities.com/build/assets/chjpbnjpbnq--2b7d4377.css';s.type='text/css';s.media='print';document.head.appendChild(s);},5000);</script>\n",
       "<script>\n",
       "\n",
       "    \n",
       "        ga('send', 'pageview', {\n",
       "            'dimension5' : 'has-results',\n",
       "            'dimension11': 'ko'\n",
       "        });\n",
       "\n",
       "    \n",
       "    gtag('set', 'user_properties', {\n",
       "        locale    : 'ko',\n",
       "        authStatus: 'has-results',\n",
       "        userId    : '',\n",
       "        cookieId  : '',\n",
       "        abTest1   : 'sales_pages_teams_video_male_unknown',\n",
       "    });\n",
       "\n",
       "</script>\n",
       "<script src=\"https://cdnjs.cloudflare.com/ajax/libs/bodymovin/5.8.1/lottie_light.min.js\" type=\"text/javascript\"></script></body></html>"
      ]
     },
     "execution_count": 2,
     "metadata": {},
     "output_type": "execute_result"
    }
   ],
   "source": [
    "driver = webdriver.Chrome(service = Service(ChromeDriverManager().install()))\n",
    "driver.get(\"https://www.16personalities.com/ko/%EB%AC%B4%EB%A3%8C-%EC%84%B1%EA%B2%A9-%EC%9C%A0%ED%98%95-%EA%B2%80%EC%82%AC\")\n",
    "driver.implicitly_wait(3600)\n",
    "\n",
    "\n",
    "button = driver.find_element(By.XPATH, '//*[@class=\"card__text\"]')\n",
    "ActionChains(driver).click(button).perform()\n",
    "soup=BeautifulSoup(driver.page_source,'html.parser')\n",
    "soup"
   ]
  },
  {
   "cell_type": "markdown",
   "id": "eb637fc0",
   "metadata": {},
   "source": [
    "##### MBTI결과만 뽑아내기 & 공백제거"
   ]
  },
  {
   "cell_type": "code",
   "execution_count": 3,
   "id": "aa5991b0",
   "metadata": {
    "ExecuteTime": {
     "end_time": "2023-07-25T07:31:34.589932Z",
     "start_time": "2023-07-25T07:31:34.567904Z"
    }
   },
   "outputs": [
    {
     "data": {
      "text/plain": [
       "<div class=\"results__type__code results__type__code--blue\" data-v-356ad83d=\"\">\n",
       "        ESFJ-T\n",
       "      </div>"
      ]
     },
     "execution_count": 3,
     "metadata": {},
     "output_type": "execute_result"
    }
   ],
   "source": [
    "table = soup.find('div', {'class' : ['results__type__code results__type__code--blue', 'results__type__code results__type__code--yellow',\n",
    "                                    'results__type__code results__type__code--green', 'results__type__code results__type__code--purple']})\n",
    "table"
   ]
  },
  {
   "cell_type": "code",
   "execution_count": 4,
   "id": "5c5276e2",
   "metadata": {
    "ExecuteTime": {
     "end_time": "2023-07-25T07:31:39.189898Z",
     "start_time": "2023-07-25T07:31:39.181944Z"
    }
   },
   "outputs": [
    {
     "name": "stdout",
     "output_type": "stream",
     "text": [
      "['        ESFJ-T']\n"
     ]
    }
   ],
   "source": [
    "p = re.compile('[\\n](.*?)[\\n]')\n",
    "table = p.findall(str(table))\n",
    "print(table)"
   ]
  },
  {
   "cell_type": "code",
   "execution_count": 5,
   "id": "2e158824",
   "metadata": {
    "ExecuteTime": {
     "end_time": "2023-07-25T07:31:40.875536Z",
     "start_time": "2023-07-25T07:31:40.838801Z"
    }
   },
   "outputs": [
    {
     "data": {
      "text/html": [
       "<div>\n",
       "<style scoped>\n",
       "    .dataframe tbody tr th:only-of-type {\n",
       "        vertical-align: middle;\n",
       "    }\n",
       "\n",
       "    .dataframe tbody tr th {\n",
       "        vertical-align: top;\n",
       "    }\n",
       "\n",
       "    .dataframe thead th {\n",
       "        text-align: right;\n",
       "    }\n",
       "</style>\n",
       "<table border=\"1\" class=\"dataframe\">\n",
       "  <thead>\n",
       "    <tr style=\"text-align: right;\">\n",
       "      <th></th>\n",
       "      <th>URL</th>\n",
       "    </tr>\n",
       "  </thead>\n",
       "  <tbody>\n",
       "    <tr>\n",
       "      <th>0</th>\n",
       "      <td>ESFJ-T</td>\n",
       "    </tr>\n",
       "  </tbody>\n",
       "</table>\n",
       "</div>"
      ],
      "text/plain": [
       "              URL\n",
       "0          ESFJ-T"
      ]
     },
     "execution_count": 5,
     "metadata": {},
     "output_type": "execute_result"
    }
   ],
   "source": [
    "table3 = pd.DataFrame({'URL':table})\n",
    "table3"
   ]
  },
  {
   "cell_type": "code",
   "execution_count": 6,
   "id": "ae002b70",
   "metadata": {
    "ExecuteTime": {
     "end_time": "2023-07-25T07:31:42.685512Z",
     "start_time": "2023-07-25T07:31:42.670863Z"
    }
   },
   "outputs": [],
   "source": [
    "table3.URL = table3.URL.str.replace(' ', '')"
   ]
  },
  {
   "cell_type": "code",
   "execution_count": 7,
   "id": "4dd3d84f",
   "metadata": {
    "ExecuteTime": {
     "end_time": "2023-07-25T07:31:44.596886Z",
     "start_time": "2023-07-25T07:31:44.581951Z"
    }
   },
   "outputs": [
    {
     "data": {
      "text/plain": [
       "'ESFJ-T'"
      ]
     },
     "execution_count": 7,
     "metadata": {},
     "output_type": "execute_result"
    }
   ],
   "source": [
    "table3.iloc[0]['URL']"
   ]
  },
  {
   "cell_type": "markdown",
   "id": "751a02b1",
   "metadata": {},
   "source": [
    "##### INSERT"
   ]
  },
  {
   "cell_type": "code",
   "execution_count": 34,
   "id": "4f0e9eb5",
   "metadata": {
    "ExecuteTime": {
     "end_time": "2023-07-21T04:04:54.507466Z",
     "start_time": "2023-07-21T04:04:54.456786Z"
    }
   },
   "outputs": [],
   "source": [
    "con = cx_Oracle.connect('mbti/1111@localhost:1521/xe')\n",
    "cur = con.cursor()\n",
    "sql_insert = '''\n",
    "            insert into test(MBTI) \n",
    "            values(:MBTI)\n",
    "            '''\n",
    "MBTI = table3.iloc[0]['URL']\n",
    "\n",
    "cur.execute(sql_insert, (MBTI,))\n",
    "\n",
    "\n",
    "con.commit()\n",
    "cur.close()\n",
    "con.close()"
   ]
  },
  {
   "cell_type": "markdown",
   "id": "83956264",
   "metadata": {},
   "source": [
    "##### UPDATE"
   ]
  },
  {
   "cell_type": "code",
   "execution_count": 35,
   "id": "629a6d0d",
   "metadata": {
    "ExecuteTime": {
     "end_time": "2023-07-21T04:05:30.145365Z",
     "start_time": "2023-07-21T04:05:30.103066Z"
    }
   },
   "outputs": [],
   "source": [
    "con = cx_Oracle.connect('mbti/1111@localhost:1521/xe')\n",
    "cur = con.cursor()\n",
    "sql = \"update movie set MBTI결과  = :1  WHERE 국문영화명 =:2\"\n",
    "MBTI = table3.iloc[0]['URL']\n",
    "\n",
    "cur.execute(sql,(MBTI,'크레이지'))\n",
    "\n",
    "\n",
    "\n",
    "con.commit()\n",
    "cur.close()\n",
    "con.close()"
   ]
  },
  {
   "cell_type": "code",
   "execution_count": null,
   "id": "c3d495ea",
   "metadata": {},
   "outputs": [],
   "source": []
  }
 ],
 "metadata": {
  "kernelspec": {
   "display_name": "Python 3 (ipykernel)",
   "language": "python",
   "name": "python3"
  },
  "language_info": {
   "codemirror_mode": {
    "name": "ipython",
    "version": 3
   },
   "file_extension": ".py",
   "mimetype": "text/x-python",
   "name": "python",
   "nbconvert_exporter": "python",
   "pygments_lexer": "ipython3",
   "version": "3.10.11"
  }
 },
 "nbformat": 4,
 "nbformat_minor": 5
}
