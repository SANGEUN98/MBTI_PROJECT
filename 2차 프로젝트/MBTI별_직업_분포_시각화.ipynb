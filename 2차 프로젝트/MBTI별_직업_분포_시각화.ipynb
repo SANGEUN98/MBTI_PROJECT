{
 "cells": [
  {
   "cell_type": "markdown",
   "id": "6e22280e",
   "metadata": {},
   "source": [
    "# 기본 정보"
   ]
  },
  {
   "cell_type": "code",
   "execution_count": 42,
   "id": "a2d6a06d",
   "metadata": {
    "ExecuteTime": {
     "end_time": "2023-07-13T08:54:54.175090Z",
     "start_time": "2023-07-13T08:54:54.169107Z"
    }
   },
   "outputs": [],
   "source": [
    "import pandas as pd\n",
    "import numpy as np\n",
    "import matplotlib.pyplot as plt\n",
    "import matplotlib.ticker as ticker\n",
    "from matplotlib import font_manager,rc"
   ]
  },
  {
   "cell_type": "code",
   "execution_count": 3,
   "id": "b542fc59",
   "metadata": {
    "ExecuteTime": {
     "end_time": "2023-07-13T08:00:58.293456Z",
     "start_time": "2023-07-13T08:00:58.283482Z"
    }
   },
   "outputs": [],
   "source": [
    "# career = pd.read_csv(\"data/MBTI와 직업.csv\", encoding='euc-kr')\n",
    "# career.shape()"
   ]
  },
  {
   "cell_type": "code",
   "execution_count": 6,
   "id": "4ed02e93",
   "metadata": {
    "ExecuteTime": {
     "end_time": "2023-07-13T08:03:44.094700Z",
     "start_time": "2023-07-13T08:03:43.915185Z"
    }
   },
   "outputs": [],
   "source": [
    "career_xl = pd.read_excel(\"data/MBTI와 직업.xlsx\", engine = \"openpyxl\")"
   ]
  },
  {
   "cell_type": "code",
   "execution_count": 7,
   "id": "db743620",
   "metadata": {
    "ExecuteTime": {
     "end_time": "2023-07-13T08:03:45.744225Z",
     "start_time": "2023-07-13T08:03:45.730263Z"
    }
   },
   "outputs": [
    {
     "data": {
      "text/html": [
       "<div>\n",
       "<style scoped>\n",
       "    .dataframe tbody tr th:only-of-type {\n",
       "        vertical-align: middle;\n",
       "    }\n",
       "\n",
       "    .dataframe tbody tr th {\n",
       "        vertical-align: top;\n",
       "    }\n",
       "\n",
       "    .dataframe thead th {\n",
       "        text-align: right;\n",
       "    }\n",
       "</style>\n",
       "<table border=\"1\" class=\"dataframe\">\n",
       "  <thead>\n",
       "    <tr style=\"text-align: right;\">\n",
       "      <th></th>\n",
       "      <th>유형</th>\n",
       "      <th>직업</th>\n",
       "      <th>호불호</th>\n",
       "    </tr>\n",
       "  </thead>\n",
       "  <tbody>\n",
       "    <tr>\n",
       "      <th>0</th>\n",
       "      <td>ESFJ</td>\n",
       "      <td>역무원</td>\n",
       "      <td>NaN</td>\n",
       "    </tr>\n",
       "    <tr>\n",
       "      <th>1</th>\n",
       "      <td>ENTJ</td>\n",
       "      <td>여성복 MD</td>\n",
       "      <td>NaN</td>\n",
       "    </tr>\n",
       "    <tr>\n",
       "      <th>2</th>\n",
       "      <td>ESTJ</td>\n",
       "      <td>영업직</td>\n",
       "      <td>NaN</td>\n",
       "    </tr>\n",
       "    <tr>\n",
       "      <th>3</th>\n",
       "      <td>INFP</td>\n",
       "      <td>영업직</td>\n",
       "      <td>NaN</td>\n",
       "    </tr>\n",
       "    <tr>\n",
       "      <th>4</th>\n",
       "      <td>INFJ</td>\n",
       "      <td>연구직</td>\n",
       "      <td>NaN</td>\n",
       "    </tr>\n",
       "    <tr>\n",
       "      <th>...</th>\n",
       "      <td>...</td>\n",
       "      <td>...</td>\n",
       "      <td>...</td>\n",
       "    </tr>\n",
       "    <tr>\n",
       "      <th>1316</th>\n",
       "      <td>ISTP</td>\n",
       "      <td>엔지니어</td>\n",
       "      <td>NaN</td>\n",
       "    </tr>\n",
       "    <tr>\n",
       "      <th>1317</th>\n",
       "      <td>ESTJ</td>\n",
       "      <td>경찰</td>\n",
       "      <td>NaN</td>\n",
       "    </tr>\n",
       "    <tr>\n",
       "      <th>1318</th>\n",
       "      <td>ENTP</td>\n",
       "      <td>경영 컨설팅</td>\n",
       "      <td>NaN</td>\n",
       "    </tr>\n",
       "    <tr>\n",
       "      <th>1319</th>\n",
       "      <td>INTP</td>\n",
       "      <td>엔지니어</td>\n",
       "      <td>NaN</td>\n",
       "    </tr>\n",
       "    <tr>\n",
       "      <th>1320</th>\n",
       "      <td>ISTP</td>\n",
       "      <td>사무직</td>\n",
       "      <td>불호</td>\n",
       "    </tr>\n",
       "  </tbody>\n",
       "</table>\n",
       "<p>1321 rows × 3 columns</p>\n",
       "</div>"
      ],
      "text/plain": [
       "        유형      직업  호불호\n",
       "0     ESFJ     역무원  NaN\n",
       "1     ENTJ  여성복 MD  NaN\n",
       "2     ESTJ     영업직  NaN\n",
       "3     INFP     영업직  NaN\n",
       "4     INFJ     연구직  NaN\n",
       "...    ...     ...  ...\n",
       "1316  ISTP    엔지니어  NaN\n",
       "1317  ESTJ      경찰  NaN\n",
       "1318  ENTP  경영 컨설팅  NaN\n",
       "1319  INTP    엔지니어  NaN\n",
       "1320  ISTP     사무직   불호\n",
       "\n",
       "[1321 rows x 3 columns]"
      ]
     },
     "execution_count": 7,
     "metadata": {},
     "output_type": "execute_result"
    }
   ],
   "source": [
    "career_xl"
   ]
  },
  {
   "cell_type": "markdown",
   "id": "97fdf4d8",
   "metadata": {},
   "source": [
    "# 기준 데이터"
   ]
  },
  {
   "cell_type": "markdown",
   "id": "3206c561",
   "metadata": {},
   "source": [
    "## 휴우우~...."
   ]
  },
  {
   "cell_type": "code",
   "execution_count": 27,
   "id": "4abb1c7c",
   "metadata": {
    "ExecuteTime": {
     "end_time": "2023-07-13T08:43:24.665086Z",
     "start_time": "2023-07-13T08:43:24.626028Z"
    }
   },
   "outputs": [
    {
     "data": {
      "text/plain": [
       "(1281, 2)"
      ]
     },
     "execution_count": 27,
     "metadata": {},
     "output_type": "execute_result"
    }
   ],
   "source": [
    "real_career_xl = career_xl.drop('호불호',axis=1)\n",
    "real_career_xl = real_career_xl[real_career_xl.유형 != 'XNFP']\n",
    "real_career_xl = real_career_xl[real_career_xl.유형 != 'ENXP']\n",
    "real_career_xl = real_career_xl[real_career_xl.유형 != 'INXJ']\n",
    "real_career_xl = real_career_xl[real_career_xl.유형 != 'INXP']\n",
    "real_career_xl = real_career_xl[real_career_xl.유형 != 'ISXP']\n",
    "real_career_xl = real_career_xl[real_career_xl.유형 != 'ISXJ']\n",
    "real_career_xl = real_career_xl[real_career_xl.유형 != 'XNTP']\n",
    "real_career_xl = real_career_xl[real_career_xl.유형 != 'EXTJ']\n",
    "real_career_xl = real_career_xl[real_career_xl.유형 != 'IXFJ']\n",
    "real_career_xl = real_career_xl[real_career_xl.유형 != 'ENXX']\n",
    "real_career_xl = real_career_xl[real_career_xl.유형 != 'XNFP']\n",
    "real_career_xl = real_career_xl[real_career_xl.유형 != 'ESXP']\n",
    "real_career_xl = real_career_xl[real_career_xl.유형 != 'INTX']\n",
    "real_career_xl = real_career_xl[real_career_xl.유형 != 'XSTJ']\n",
    "real_career_xl = real_career_xl[real_career_xl.유형 != 'ISFX']\n",
    "real_career_xl = real_career_xl[real_career_xl.유형 != 'EXFJ']\n",
    "real_career_xl = real_career_xl[real_career_xl.유형 != 'XSFX']\n",
    "real_career_xl = real_career_xl[real_career_xl.유형 != 'XSTP']\n",
    "real_career_xl = real_career_xl[real_career_xl.유형 != 'IXTJ']\n",
    "real_career_xl = real_career_xl[real_career_xl.유형 != 'ENTX']\n",
    "real_career_xl = real_career_xl[real_career_xl.유형 != 'XNTJ']\n",
    "real_career_xl = real_career_xl[real_career_xl.유형 != 'IXFP']\n",
    "real_career_xl = real_career_xl[real_career_xl.유형 != 'ESXJ']\n",
    "real_career_xl = real_career_xl[real_career_xl.유형 != 'XNFJ']\n",
    "real_career_xl.shape"
   ]
  },
  {
   "cell_type": "markdown",
   "id": "d756a9d8",
   "metadata": {},
   "source": [
    "## 진짜"
   ]
  },
  {
   "cell_type": "code",
   "execution_count": 28,
   "id": "ee7997f9",
   "metadata": {
    "ExecuteTime": {
     "end_time": "2023-07-13T08:43:26.838938Z",
     "start_time": "2023-07-13T08:43:26.812711Z"
    }
   },
   "outputs": [
    {
     "data": {
      "text/html": [
       "<div>\n",
       "<style scoped>\n",
       "    .dataframe tbody tr th:only-of-type {\n",
       "        vertical-align: middle;\n",
       "    }\n",
       "\n",
       "    .dataframe tbody tr th {\n",
       "        vertical-align: top;\n",
       "    }\n",
       "\n",
       "    .dataframe thead th {\n",
       "        text-align: right;\n",
       "    }\n",
       "</style>\n",
       "<table border=\"1\" class=\"dataframe\">\n",
       "  <thead>\n",
       "    <tr style=\"text-align: right;\">\n",
       "      <th></th>\n",
       "      <th>유형</th>\n",
       "      <th>직업</th>\n",
       "    </tr>\n",
       "  </thead>\n",
       "  <tbody>\n",
       "    <tr>\n",
       "      <th>0</th>\n",
       "      <td>ESFJ</td>\n",
       "      <td>역무원</td>\n",
       "    </tr>\n",
       "    <tr>\n",
       "      <th>1</th>\n",
       "      <td>ENTJ</td>\n",
       "      <td>여성복 MD</td>\n",
       "    </tr>\n",
       "    <tr>\n",
       "      <th>2</th>\n",
       "      <td>ESTJ</td>\n",
       "      <td>영업직</td>\n",
       "    </tr>\n",
       "    <tr>\n",
       "      <th>3</th>\n",
       "      <td>INFP</td>\n",
       "      <td>영업직</td>\n",
       "    </tr>\n",
       "    <tr>\n",
       "      <th>4</th>\n",
       "      <td>INFJ</td>\n",
       "      <td>연구직</td>\n",
       "    </tr>\n",
       "    <tr>\n",
       "      <th>...</th>\n",
       "      <td>...</td>\n",
       "      <td>...</td>\n",
       "    </tr>\n",
       "    <tr>\n",
       "      <th>1316</th>\n",
       "      <td>ISTP</td>\n",
       "      <td>엔지니어</td>\n",
       "    </tr>\n",
       "    <tr>\n",
       "      <th>1317</th>\n",
       "      <td>ESTJ</td>\n",
       "      <td>경찰</td>\n",
       "    </tr>\n",
       "    <tr>\n",
       "      <th>1318</th>\n",
       "      <td>ENTP</td>\n",
       "      <td>경영 컨설팅</td>\n",
       "    </tr>\n",
       "    <tr>\n",
       "      <th>1319</th>\n",
       "      <td>INTP</td>\n",
       "      <td>엔지니어</td>\n",
       "    </tr>\n",
       "    <tr>\n",
       "      <th>1320</th>\n",
       "      <td>ISTP</td>\n",
       "      <td>사무직</td>\n",
       "    </tr>\n",
       "  </tbody>\n",
       "</table>\n",
       "<p>1281 rows × 2 columns</p>\n",
       "</div>"
      ],
      "text/plain": [
       "        유형      직업\n",
       "0     ESFJ     역무원\n",
       "1     ENTJ  여성복 MD\n",
       "2     ESTJ     영업직\n",
       "3     INFP     영업직\n",
       "4     INFJ     연구직\n",
       "...    ...     ...\n",
       "1316  ISTP    엔지니어\n",
       "1317  ESTJ      경찰\n",
       "1318  ENTP  경영 컨설팅\n",
       "1319  INTP    엔지니어\n",
       "1320  ISTP     사무직\n",
       "\n",
       "[1281 rows x 2 columns]"
      ]
     },
     "execution_count": 28,
     "metadata": {},
     "output_type": "execute_result"
    }
   ],
   "source": [
    "real_career_xl"
   ]
  },
  {
   "cell_type": "markdown",
   "id": "c2487456",
   "metadata": {},
   "source": [
    "# 시각화"
   ]
  },
  {
   "cell_type": "markdown",
   "id": "a31544e2",
   "metadata": {},
   "source": [
    "## MBTI 전체"
   ]
  },
  {
   "cell_type": "markdown",
   "id": "636ab8bc",
   "metadata": {},
   "source": [
    "### MBTI별 통계 인원수"
   ]
  },
  {
   "cell_type": "code",
   "execution_count": 29,
   "id": "39d2ff31",
   "metadata": {
    "ExecuteTime": {
     "end_time": "2023-07-13T08:43:31.175142Z",
     "start_time": "2023-07-13T08:43:31.162448Z"
    }
   },
   "outputs": [
    {
     "data": {
      "text/plain": [
       "유형\n",
       "ENFP    133\n",
       "ENTP    122\n",
       "INFP    112\n",
       "INTP    100\n",
       "ENTJ     91\n",
       "ESTJ     89\n",
       "INTJ     86\n",
       "ISTJ     84\n",
       "ENFJ     75\n",
       "INFJ     69\n",
       "ISFJ     65\n",
       "ESFJ     59\n",
       "ISTP     56\n",
       "ESFP     48\n",
       "ISFP     47\n",
       "ESTP     45\n",
       "Name: count, dtype: int64"
      ]
     },
     "execution_count": 29,
     "metadata": {},
     "output_type": "execute_result"
    }
   ],
   "source": [
    "real_career_xl['유형'].value_counts()"
   ]
  },
  {
   "cell_type": "code",
   "execution_count": 55,
   "id": "3cef7485",
   "metadata": {
    "ExecuteTime": {
     "end_time": "2023-07-13T09:38:37.746846Z",
     "start_time": "2023-07-13T09:38:37.474495Z"
    }
   },
   "outputs": [
    {
     "data": {
      "text/plain": [
       "([<matplotlib.axis.XTick at 0x21ab7a6cc70>,\n",
       "  <matplotlib.axis.XTick at 0x21ab7a6db40>,\n",
       "  <matplotlib.axis.XTick at 0x21ab6f935b0>,\n",
       "  <matplotlib.axis.XTick at 0x21ab7542da0>,\n",
       "  <matplotlib.axis.XTick at 0x21ab7542a70>,\n",
       "  <matplotlib.axis.XTick at 0x21ab7543970>,\n",
       "  <matplotlib.axis.XTick at 0x21ab7542ad0>,\n",
       "  <matplotlib.axis.XTick at 0x21ab756c970>,\n",
       "  <matplotlib.axis.XTick at 0x21ab756d150>,\n",
       "  <matplotlib.axis.XTick at 0x21ab7543af0>,\n",
       "  <matplotlib.axis.XTick at 0x21ab756c7c0>,\n",
       "  <matplotlib.axis.XTick at 0x21ab756dd20>,\n",
       "  <matplotlib.axis.XTick at 0x21ab756e500>,\n",
       "  <matplotlib.axis.XTick at 0x21ab756ece0>,\n",
       "  <matplotlib.axis.XTick at 0x21ab756f4c0>,\n",
       "  <matplotlib.axis.XTick at 0x21ab756e260>],\n",
       " [Text(0, 0, 'ENFP'),\n",
       "  Text(1, 0, 'ENTP'),\n",
       "  Text(2, 0, 'INFP'),\n",
       "  Text(3, 0, 'INTP'),\n",
       "  Text(4, 0, 'ENTJ'),\n",
       "  Text(5, 0, 'ESTJ'),\n",
       "  Text(6, 0, 'INTJ'),\n",
       "  Text(7, 0, 'ISTJ'),\n",
       "  Text(8, 0, 'ENFJ'),\n",
       "  Text(9, 0, 'INFJ'),\n",
       "  Text(10, 0, 'ISFJ'),\n",
       "  Text(11, 0, 'ESFJ'),\n",
       "  Text(12, 0, 'ISTP'),\n",
       "  Text(13, 0, 'ESFP'),\n",
       "  Text(14, 0, 'ISFP'),\n",
       "  Text(15, 0, 'ESTP')])"
      ]
     },
     "execution_count": 55,
     "metadata": {},
     "output_type": "execute_result"
    },
    {
     "data": {
      "image/png": "[encoded data removed]",
      "text/plain": [
       "<Figure size 1500x1000 with 1 Axes>"
      ]
     },
     "metadata": {},
     "output_type": "display_data"
    }
   ],
   "source": [
    "idx = np.arange(len(real_career_xl['유형'].value_counts().index))\n",
    "plt.figure(figsize=(15,10))\n",
    "plt.bar(idx,real_career_xl['유형'].value_counts().values)\n",
    "plt.xticks(idx,real_career_xl['유형'].value_counts().index)\n"
   ]
  },
  {
   "cell_type": "markdown",
   "id": "f262f2f0",
   "metadata": {},
   "source": [
    "## MBTI별"
   ]
  }
 ],
 "metadata": {
  "kernelspec": {
   "display_name": "Python 3 (ipykernel)",
   "language": "python",
   "name": "python3"
  },
  "language_info": {
   "codemirror_mode": {
    "name": "ipython",
    "version": 3
   },
   "file_extension": ".py",
   "mimetype": "text/x-python",
   "name": "python",
   "nbconvert_exporter": "python",
   "pygments_lexer": "ipython3",
   "version": "3.10.11"
  }
 },
 "nbformat": 4,
 "nbformat_minor": 5
}
