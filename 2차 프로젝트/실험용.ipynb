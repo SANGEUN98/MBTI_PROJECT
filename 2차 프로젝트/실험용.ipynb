{
 "cells": [
  {
   "cell_type": "code",
   "execution_count": 1,
   "id": "b65ddfb7",
   "metadata": {
    "ExecuteTime": {
     "end_time": "2023-08-21T01:59:18.328671Z",
     "start_time": "2023-08-21T01:59:17.110022Z"
    }
   },
   "outputs": [],
   "source": [
    "from selenium import webdriver\n",
    "from selenium.webdriver.common.keys import Keys\n",
    "from selenium.webdriver.common.by import By\n",
    "from selenium.webdriver.chrome.options import Options\n",
    "from selenium.webdriver.chrome.service import Service\n",
    "from webdriver_manager.chrome import ChromeDriverManager\n",
    "import time\n",
    "from bs4 import BeautifulSoup\n",
    "from selenium.webdriver import ActionChains\n",
    "import cx_Oracle\n",
    "import re\n",
    "import pandas as pd"
   ]
  },
  {
   "cell_type": "code",
   "execution_count": 2,
   "id": "2fe4503c",
   "metadata": {
    "ExecuteTime": {
     "end_time": "2023-08-21T01:59:45.030026Z",
     "start_time": "2023-08-21T01:59:44.896622Z"
    }
   },
   "outputs": [],
   "source": [
    "con = cx_Oracle.connect('mbti/1111@192.168.30.28:1521/xe')\n",
    "cur1 = con.cursor()\n",
    "my_sql=\"\"\"\n",
    "select * from BOX_RANK_DATA\n",
    "\"\"\"\n",
    "rs = cur1.execute(my_sql)"
   ]
  },
  {
   "cell_type": "code",
   "execution_count": 3,
   "id": "11e4742a",
   "metadata": {
    "ExecuteTime": {
     "end_time": "2023-08-21T01:59:52.904158Z",
     "start_time": "2023-08-21T01:59:52.865922Z"
    }
   },
   "outputs": [],
   "source": [
    "con = cx_Oracle.connect('mbti/1111@192.168.30.28:1521/xe')\n",
    "cur = con.cursor()\n",
    "my_sql=\"\"\"\n",
    "select * from BOX_RANK_DATA\n",
    "where RANK_DATE = '20230820'\n",
    "\"\"\""
   ]
  },
  {
   "cell_type": "code",
   "execution_count": 5,
   "id": "5ea716c3",
   "metadata": {
    "ExecuteTime": {
     "end_time": "2023-08-21T02:01:20.592808Z",
     "start_time": "2023-08-21T02:01:20.569871Z"
    }
   },
   "outputs": [
    {
     "data": {
      "text/html": [
       "<div>\n",
       "<style scoped>\n",
       "    .dataframe tbody tr th:only-of-type {\n",
       "        vertical-align: middle;\n",
       "    }\n",
       "\n",
       "    .dataframe tbody tr th {\n",
       "        vertical-align: top;\n",
       "    }\n",
       "\n",
       "    .dataframe thead th {\n",
       "        text-align: right;\n",
       "    }\n",
       "</style>\n",
       "<table border=\"1\" class=\"dataframe\">\n",
       "  <thead>\n",
       "    <tr style=\"text-align: right;\">\n",
       "      <th></th>\n",
       "      <th>0</th>\n",
       "      <th>1</th>\n",
       "      <th>2</th>\n",
       "    </tr>\n",
       "  </thead>\n",
       "  <tbody>\n",
       "    <tr>\n",
       "      <th>0</th>\n",
       "      <td>20230820</td>\n",
       "      <td>오펜하이머</td>\n",
       "      <td>1</td>\n",
       "    </tr>\n",
       "    <tr>\n",
       "      <th>1</th>\n",
       "      <td>20230820</td>\n",
       "      <td>콘크리트 유토피아</td>\n",
       "      <td>2</td>\n",
       "    </tr>\n",
       "    <tr>\n",
       "      <th>2</th>\n",
       "      <td>20230820</td>\n",
       "      <td>달짝지근해: 7510</td>\n",
       "      <td>3</td>\n",
       "    </tr>\n",
       "    <tr>\n",
       "      <th>3</th>\n",
       "      <td>20230820</td>\n",
       "      <td>밀수</td>\n",
       "      <td>4</td>\n",
       "    </tr>\n",
       "    <tr>\n",
       "      <th>4</th>\n",
       "      <td>20230820</td>\n",
       "      <td>엘리멘탈</td>\n",
       "      <td>5</td>\n",
       "    </tr>\n",
       "    <tr>\n",
       "      <th>5</th>\n",
       "      <td>20230820</td>\n",
       "      <td>메가로돈 2</td>\n",
       "      <td>6</td>\n",
       "    </tr>\n",
       "    <tr>\n",
       "      <th>6</th>\n",
       "      <td>20230820</td>\n",
       "      <td>보호자</td>\n",
       "      <td>7</td>\n",
       "    </tr>\n",
       "    <tr>\n",
       "      <th>7</th>\n",
       "      <td>20230820</td>\n",
       "      <td>바다 탐험대 옥토넛 어보브 앤 비욘드 : 육지 넘어 하늘까지!</td>\n",
       "      <td>8</td>\n",
       "    </tr>\n",
       "    <tr>\n",
       "      <th>8</th>\n",
       "      <td>20230820</td>\n",
       "      <td>런닝맨: 리벤져스</td>\n",
       "      <td>9</td>\n",
       "    </tr>\n",
       "    <tr>\n",
       "      <th>9</th>\n",
       "      <td>20230820</td>\n",
       "      <td>비공식작전</td>\n",
       "      <td>10</td>\n",
       "    </tr>\n",
       "  </tbody>\n",
       "</table>\n",
       "</div>"
      ],
      "text/plain": [
       "          0                                   1   2\n",
       "0  20230820                               오펜하이머   1\n",
       "1  20230820                           콘크리트 유토피아   2\n",
       "2  20230820                         달짝지근해: 7510   3\n",
       "3  20230820                                  밀수   4\n",
       "4  20230820                                엘리멘탈   5\n",
       "5  20230820                              메가로돈 2   6\n",
       "6  20230820                                 보호자   7\n",
       "7  20230820  바다 탐험대 옥토넛 어보브 앤 비욘드 : 육지 넘어 하늘까지!   8\n",
       "8  20230820                           런닝맨: 리벤져스   9\n",
       "9  20230820                               비공식작전  10"
      ]
     },
     "execution_count": 5,
     "metadata": {},
     "output_type": "execute_result"
    }
   ],
   "source": [
    "cur.execute(my_sql)\n",
    "cur\n",
    "df = pd.DataFrame(cur)\n",
    "df"
   ]
  },
  {
   "cell_type": "code",
   "execution_count": 6,
   "id": "6bad66cb",
   "metadata": {
    "ExecuteTime": {
     "end_time": "2023-08-21T02:01:34.102508Z",
     "start_time": "2023-08-21T02:01:34.089545Z"
    }
   },
   "outputs": [],
   "source": [
    "data =[]\n",
    "for record in rs:\n",
    "    row=[]\n",
    "    for source in range(0, len(record)):\n",
    "        row.append(record[source])\n",
    "    data.append(row)"
   ]
  },
  {
   "cell_type": "code",
   "execution_count": 7,
   "id": "dab8c737",
   "metadata": {
    "ExecuteTime": {
     "end_time": "2023-08-21T02:01:35.248796Z",
     "start_time": "2023-08-21T02:01:35.232839Z"
    }
   },
   "outputs": [],
   "source": [
    "columns = ['날짜','제목','랭킹']"
   ]
  },
  {
   "cell_type": "code",
   "execution_count": 8,
   "id": "3a2ac9f7",
   "metadata": {
    "ExecuteTime": {
     "end_time": "2023-08-21T02:01:42.864320Z",
     "start_time": "2023-08-21T02:01:42.856342Z"
    }
   },
   "outputs": [],
   "source": [
    "rank = pd.DataFrame(columns=columns, data = data)"
   ]
  },
  {
   "cell_type": "code",
   "execution_count": 9,
   "id": "b9d9dc53",
   "metadata": {
    "ExecuteTime": {
     "end_time": "2023-08-21T02:01:44.350480Z",
     "start_time": "2023-08-21T02:01:44.328540Z"
    }
   },
   "outputs": [
    {
     "data": {
      "text/html": [
       "<div>\n",
       "<style scoped>\n",
       "    .dataframe tbody tr th:only-of-type {\n",
       "        vertical-align: middle;\n",
       "    }\n",
       "\n",
       "    .dataframe tbody tr th {\n",
       "        vertical-align: top;\n",
       "    }\n",
       "\n",
       "    .dataframe thead th {\n",
       "        text-align: right;\n",
       "    }\n",
       "</style>\n",
       "<table border=\"1\" class=\"dataframe\">\n",
       "  <thead>\n",
       "    <tr style=\"text-align: right;\">\n",
       "      <th></th>\n",
       "      <th>날짜</th>\n",
       "      <th>제목</th>\n",
       "      <th>랭킹</th>\n",
       "    </tr>\n",
       "  </thead>\n",
       "  <tbody>\n",
       "    <tr>\n",
       "      <th>0</th>\n",
       "      <td>20230819</td>\n",
       "      <td>콘크리트 유토피아</td>\n",
       "      <td>2</td>\n",
       "    </tr>\n",
       "    <tr>\n",
       "      <th>1</th>\n",
       "      <td>20230819</td>\n",
       "      <td>달짝지근해: 7510</td>\n",
       "      <td>3</td>\n",
       "    </tr>\n",
       "    <tr>\n",
       "      <th>2</th>\n",
       "      <td>20230819</td>\n",
       "      <td>밀수</td>\n",
       "      <td>4</td>\n",
       "    </tr>\n",
       "    <tr>\n",
       "      <th>3</th>\n",
       "      <td>20230819</td>\n",
       "      <td>엘리멘탈</td>\n",
       "      <td>5</td>\n",
       "    </tr>\n",
       "    <tr>\n",
       "      <th>4</th>\n",
       "      <td>20230819</td>\n",
       "      <td>메가로돈 2</td>\n",
       "      <td>6</td>\n",
       "    </tr>\n",
       "    <tr>\n",
       "      <th>...</th>\n",
       "      <td>...</td>\n",
       "      <td>...</td>\n",
       "      <td>...</td>\n",
       "    </tr>\n",
       "    <tr>\n",
       "      <th>65</th>\n",
       "      <td>20230820</td>\n",
       "      <td>보호자</td>\n",
       "      <td>7</td>\n",
       "    </tr>\n",
       "    <tr>\n",
       "      <th>66</th>\n",
       "      <td>20230820</td>\n",
       "      <td>바다 탐험대 옥토넛 어보브 앤 비욘드 : 육지 넘어 하늘까지!</td>\n",
       "      <td>8</td>\n",
       "    </tr>\n",
       "    <tr>\n",
       "      <th>67</th>\n",
       "      <td>20230820</td>\n",
       "      <td>런닝맨: 리벤져스</td>\n",
       "      <td>9</td>\n",
       "    </tr>\n",
       "    <tr>\n",
       "      <th>68</th>\n",
       "      <td>20230820</td>\n",
       "      <td>비공식작전</td>\n",
       "      <td>10</td>\n",
       "    </tr>\n",
       "    <tr>\n",
       "      <th>69</th>\n",
       "      <td>20230819</td>\n",
       "      <td>오펜하이머</td>\n",
       "      <td>1</td>\n",
       "    </tr>\n",
       "  </tbody>\n",
       "</table>\n",
       "<p>70 rows × 3 columns</p>\n",
       "</div>"
      ],
      "text/plain": [
       "          날짜                                  제목  랭킹\n",
       "0   20230819                           콘크리트 유토피아   2\n",
       "1   20230819                         달짝지근해: 7510   3\n",
       "2   20230819                                  밀수   4\n",
       "3   20230819                                엘리멘탈   5\n",
       "4   20230819                              메가로돈 2   6\n",
       "..       ...                                 ...  ..\n",
       "65  20230820                                 보호자   7\n",
       "66  20230820  바다 탐험대 옥토넛 어보브 앤 비욘드 : 육지 넘어 하늘까지!   8\n",
       "67  20230820                           런닝맨: 리벤져스   9\n",
       "68  20230820                               비공식작전  10\n",
       "69  20230819                               오펜하이머   1\n",
       "\n",
       "[70 rows x 3 columns]"
      ]
     },
     "execution_count": 9,
     "metadata": {},
     "output_type": "execute_result"
    }
   ],
   "source": [
    "rank"
   ]
  },
  {
   "cell_type": "code",
   "execution_count": 53,
   "id": "713b04a1",
   "metadata": {
    "ExecuteTime": {
     "end_time": "2023-08-17T06:48:25.135129Z",
     "start_time": "2023-08-17T06:48:25.117119Z"
    }
   },
   "outputs": [],
   "source": [
    "lists = []"
   ]
  },
  {
   "cell_type": "code",
   "execution_count": 54,
   "id": "bbc5b114",
   "metadata": {
    "ExecuteTime": {
     "end_time": "2023-08-17T06:48:25.774150Z",
     "start_time": "2023-08-17T06:48:25.765164Z"
    }
   },
   "outputs": [],
   "source": [
    "lists.append(rank[(rank['제목'] == '콘크리트 유토피아')].to_dict('records'))"
   ]
  },
  {
   "cell_type": "code",
   "execution_count": 58,
   "id": "2fa3e330",
   "metadata": {
    "ExecuteTime": {
     "end_time": "2023-08-17T06:49:09.862947Z",
     "start_time": "2023-08-17T06:49:09.851976Z"
    }
   },
   "outputs": [
    {
     "data": {
      "text/plain": [
       "[[{'날짜': '20230815', '제목': '콘크리트 유토피아', '랭킹': 2},\n",
       "  {'날짜': '20230814', '제목': '콘크리트 유토피아', '랭킹': 1},\n",
       "  {'날짜': '20230813', '제목': '콘크리트 유토피아', '랭킹': 1},\n",
       "  {'날짜': '20230812', '제목': '콘크리트 유토피아', '랭킹': 1},\n",
       "  {'날짜': '20230811', '제목': '콘크리트 유토피아', '랭킹': 1},\n",
       "  {'날짜': '20230810', '제목': '콘크리트 유토피아', '랭킹': 1},\n",
       "  {'날짜': '20230816', '제목': '콘크리트 유토피아', '랭킹': 2}]]"
      ]
     },
     "execution_count": 58,
     "metadata": {},
     "output_type": "execute_result"
    }
   ],
   "source": [
    "lists"
   ]
  }
 ],
 "metadata": {
  "kernelspec": {
   "display_name": "Python 3 (ipykernel)",
   "language": "python",
   "name": "python3"
  },
  "language_info": {
   "codemirror_mode": {
    "name": "ipython",
    "version": 3
   },
   "file_extension": ".py",
   "mimetype": "text/x-python",
   "name": "python",
   "nbconvert_exporter": "python",
   "pygments_lexer": "ipython3",
   "version": "3.10.11"
  }
 },
 "nbformat": 4,
 "nbformat_minor": 5
}
